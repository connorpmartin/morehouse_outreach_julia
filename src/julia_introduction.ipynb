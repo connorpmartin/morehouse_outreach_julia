{
 "cells": [
  {
   "cell_type": "markdown",
   "metadata": {
    "deletable": false,
    "editable": false,
    "nbgrader": {
     "cell_type": "markdown",
     "checksum": "e1219b4f78c155605f762d99604b3f84",
     "grade": false,
     "grade_id": "cell-cce1441e92a92e59",
     "locked": true,
     "schema_version": 3,
     "solution": false,
     "task": false
    }
   },
   "source": [
    "Derived from University of Michigan - ROB 101 Computational Linear Algebra\n"
   ]
  },
  {
   "cell_type": "markdown",
   "metadata": {
    "deletable": false,
    "editable": false,
    "nbgrader": {
     "cell_type": "markdown",
     "checksum": "7aae1c640c508c1e900fc8476e28323c",
     "grade": false,
     "grade_id": "cell-42df9f51415be180",
     "locked": true,
     "schema_version": 3,
     "solution": false,
     "task": false
    }
   },
   "source": [
    "# Calculation, Matrices, and Graphing with Julia\n",
    "\n",
    "#### Purpose:  Use Julia Programming to solve mathematical problems\n",
    "- Outline:\n",
    "    - Calculation with Julia\n",
    "        - Codeblocks and Operators\n",
    "        - Functions for Computation and Display\n",
    "    - Data Manipulation with Julia\n",
    "        - Variables\n",
    "        - Vectors\n",
    "        - Matrices\n",
    "    - Variables\n",
    "        - Data Storage\n",
    "        - Custom Functions\n",
    "    - Graphing with Julia\n",
    "        - Graphing Vectors\n",
    "        - Graphing Functions\n",
    "\n",
    "\n",
    "Julia is a programming language which allows users to input a series of commands, typically one on each line, to perform any number of tasks typically involving data manipulation.\n",
    "\n",
    "This assignment is a Jupyter notebook, which is a collection of code blocks.\n",
    "\n",
    "Running a code block executes each non-comment line in the block."
   ]
  },
  {
   "cell_type": "code",
   "execution_count": null,
   "metadata": {},
   "outputs": [],
   "source": [
    "#you can edit this code block by clicking into it\n",
    "#pressing SHIFT+ENTER runs the block\n",
    "#running a code cell will display the result from the last line\n",
    "\n",
    "#hashtags are comments, and anything following a hashtag will not be run.\n",
    "\n",
    "12/2"
   ]
  },
  {
   "cell_type": "code",
   "execution_count": null,
   "metadata": {
    "deletable": false,
    "editable": false,
    "nbgrader": {
     "cell_type": "code",
     "checksum": "70747466541e980a4559c4f4abb4925d",
     "grade": true,
     "grade_id": "problem1test",
     "locked": true,
     "points": 5,
     "schema_version": 3,
     "solution": false,
     "task": false
    }
   },
   "outputs": [],
   "source": [
    "#other results are computed, but NOT displayed\n",
    "5 * 6 # * is the multiplication operator\n",
    "6 ^ 3 # ^ is the exponentiation operator\n",
    "4 == 2 #this operator returns true when both sides are equal \n"
   ]
  },
  {
   "cell_type": "code",
   "execution_count": null,
   "metadata": {},
   "outputs": [],
   "source": [
    "#Julia performs arithmetic operations in PEMDAS order:\n",
    "#Parentheses, Exponentiation, Multiplication, Division, Addition, Subtraction\n",
    "\n",
    "#TODO: Add parentheses to make this line return true with reference to PEMDAS order\n",
    "130 == 5 + 5 / 2 + 3 + 2 ^ 2 + 1"
   ]
  },
  {
   "cell_type": "code",
   "execution_count": null,
   "metadata": {
    "deletable": false,
    "editable": false,
    "nbgrader": {
     "cell_type": "code",
     "checksum": "2c41ded914a9b5baa8601c9e784441b9",
     "grade": false,
     "grade_id": "cell-202ddea9fa3b84e7",
     "locked": true,
     "schema_version": 3,
     "solution": false,
     "task": false
    }
   },
   "outputs": [],
   "source": [
    "#operators are all actually functions in disguise!\n",
    "\n",
    "+(2,3)\n",
    "\n",
    "#still probably better to use 2 + 3 for readability"
   ]
  },
  {
   "cell_type": "markdown",
   "metadata": {
    "deletable": false,
    "editable": false,
    "nbgrader": {
     "cell_type": "markdown",
     "checksum": "848876c67a4fa7b26eb5617b67dd0a44",
     "grade": false,
     "grade_id": "cell-e700f01bf29416a2",
     "locked": true,
     "schema_version": 3,
     "solution": false,
     "task": false
    }
   },
   "source": [
    "Julia has many other built in functions.\n",
    "\n",
    "- round() #rounds to nearest integer\n",
    "- ceil() #rounds up\n",
    "- floor() #rounds down\n",
    "- trunc() #chops off anything beyond decimal point\n",
    "- abs() #absolute value\n",
    "- sin(), cos(), tan()  and asin(), acos(), atan()  #many more trigonometric functions\n",
    "- sqrt() #square root\n",
    "- exp()  #natural exponential e^x\n",
    "- log() #natural logarithm\n",
    "- %() #remainder after division\n",
    "\n",
    "\n",
    "and so many more: https://docs.julialang.org/en/v1/manual/mathematical-operations/\n",
    "\n",
    "Utilize the above link for answers to all your Julia questions"
   ]
  },
  {
   "cell_type": "code",
   "execution_count": null,
   "metadata": {},
   "outputs": [],
   "source": [
    "#the modulo function calculates remainder after division\n",
    "\n",
    "#you can also call it like an operator for ease of use\n",
    "\n",
    "10 % 3 #10 / 3 is 3, with a remainder of 1"
   ]
  },
  {
   "cell_type": "code",
   "execution_count": null,
   "metadata": {
    "deletable": false,
    "editable": false,
    "nbgrader": {
     "cell_type": "code",
     "checksum": "7b92ebf94659f47d1fed4b767662badd",
     "grade": false,
     "grade_id": "cell-c956c50b93815794",
     "locked": true,
     "schema_version": 3,
     "solution": false,
     "task": false
    }
   },
   "outputs": [],
   "source": [
    "#display and utility functions are also available\n",
    "#to print multiple lines while running code, use println()\n",
    "println(5 * 6)\n",
    "println(6 / 3)\n",
    "4 ^ 2 #we don't need a println call here because the last line is automatically shown\n",
    "\n",
    "#...but Julia adds a blank line before that output,\n",
    "#so it is probably best to call println() regardless to make stuff look nice\n"
   ]
  },
  {
   "cell_type": "code",
   "execution_count": null,
   "metadata": {},
   "outputs": [],
   "source": [
    "#Greek letters are supported in Julia! they're a bit annoying to type, though...\n",
    "#in Julia, pi = π = 3.14159...... by default.\n",
    "println(pi == π)\n",
    "\n",
    "#trigonometric functions use radians, not degrees\n",
    "sin(π)\n",
    "#because the computer can't store data with perfect precision, this will return a number which is very close to 0.\n",
    "#that \"e-16\" is scientific notation for \" * 10^(-16)\"\n",
    "#so the absolute value of this number is around .00000000000000001. "
   ]
  },
  {
   "cell_type": "code",
   "execution_count": null,
   "metadata": {},
   "outputs": [],
   "source": [
    "look at the built-in functions above and convert the below equation into Julia language\n",
    "#TODO: calculate e^(2+ln( |-.5| ))"
   ]
  },
  {
   "cell_type": "markdown",
   "metadata": {
    "deletable": false,
    "editable": false,
    "nbgrader": {
     "cell_type": "markdown",
     "checksum": "99a5699ac0c47b54498a981c534d3b35",
     "grade": false,
     "grade_id": "cell-339b058b2acfbcad",
     "locked": true,
     "schema_version": 3,
     "solution": false,
     "task": false
    }
   },
   "source": [
    "**Arrays in Julia**\n",
    "\n",
    "Arrays are collections of numbers across a space.\n",
    "\n",
    "One-dimensional arrays, or vectors, consist of a column of data.\n",
    "\n",
    "Two-dimensional arrays, or matrices, consist of a value at each point on a two-dimensional grid."
   ]
  },
  {
   "cell_type": "code",
   "execution_count": null,
   "metadata": {
    "deletable": false,
    "editable": false,
    "nbgrader": {
     "cell_type": "code",
     "checksum": "fc0e6aef485da6318b27167cc054929d",
     "grade": false,
     "grade_id": "cell-fe6b0151ea814f70",
     "locked": true,
     "schema_version": 3,
     "solution": false,
     "task": false
    },
    "scrolled": true
   },
   "outputs": [],
   "source": [
    "#use brackets and comma separated numbers to create a one-dimensional array\n",
    "\n",
    "[1,2,3,4,5]"
   ]
  },
  {
   "cell_type": "markdown",
   "metadata": {},
   "source": [
    "Note that Julia provides a header for more complicated outputs:\n",
    "\n",
    "5-element Vector\n",
    "\n",
    "This is a 5 element vector\n",
    "\n",
    "{Int64,\n",
    "\n",
    "of Ints (integers, not fractions)\n",
    "\n",
    "1}\n",
    "\n",
    "and the last term is 1, because this is a one-dimensional array.\n",
    "\n",
    "The text below is not relevant for this introduction, so feel free to skip it.\n",
    "\n",
    "The 64 in Int64 means that the computer is saying \"we can store massive numbers here.\"\n",
    "Some arrays can only store smaller numbers. For example, arrays of Int16 can only store numbers between -32,768 and 32,767.\n",
    "Int64 arrays can store numbers much, much larger than a billion (or smaller than a negative billion)."
   ]
  },
  {
   "cell_type": "code",
   "execution_count": null,
   "metadata": {
    "scrolled": true
   },
   "outputs": [],
   "source": [
    "\n",
    "\n",
    "#a matrix requires a bit more syntax. \n",
    "#Note that each horizontal line ends in a semicolon, and there are no commas.\n",
    "#The output shows matrix dimensions in height by width\n",
    "[1 2;\n",
    "3 4;\n",
    "5 6]"
   ]
  },
  {
   "cell_type": "code",
   "execution_count": null,
   "metadata": {},
   "outputs": [],
   "source": [
    "#TODO: make a 2 by 3 matrix\n"
   ]
  },
  {
   "cell_type": "code",
   "execution_count": null,
   "metadata": {},
   "outputs": [],
   "source": [
    "#another item we will likely use are ranges\n",
    "#the syntax is beginning:increment:end\n",
    "#or you can use beginning:end, and the increment is one\n",
    "1:10 == 1:1:10"
   ]
  },
  {
   "cell_type": "code",
   "execution_count": null,
   "metadata": {},
   "outputs": [],
   "source": [
    "#ranges behave just like vectors, but they're much easier to write\n",
    "[1,2,3,4,5,6,7,8,9,10] == 1:10"
   ]
  },
  {
   "cell_type": "code",
   "execution_count": null,
   "metadata": {},
   "outputs": [],
   "source": [
    "#TODO: create a range which equals this vector (replace the todos)\n",
    "todo : todo : todo == [5,7,9,11]\n"
   ]
  },
  {
   "cell_type": "code",
   "execution_count": null,
   "metadata": {},
   "outputs": [],
   "source": [
    "#TODO: create a range which equals this vector\n",
    "todo : todo : todo == [4, 3, 2, 1]"
   ]
  },
  {
   "cell_type": "code",
   "execution_count": null,
   "metadata": {},
   "outputs": [],
   "source": [
    "#you can use . (a period) to call a function on each element of an array.\n",
    "#this is called \"broadcasting\" the function over that array.\n",
    "floor.([1.5,-2.5,3.0]) "
   ]
  },
  {
   "cell_type": "code",
   "execution_count": null,
   "metadata": {},
   "outputs": [],
   "source": [
    "#this is also possible with operators\n",
    "[5,7,10] .% 2"
   ]
  },
  {
   "cell_type": "code",
   "execution_count": null,
   "metadata": {},
   "outputs": [],
   "source": [
    "#of course, this also works on ranges!\n",
    "#TODO: generate the first 5 square numbers by broadcasting a function (you decide!) over a range\n",
    "#the first 5 square numbers are [1,4,9,16,25]\n"
   ]
  },
  {
   "cell_type": "code",
   "execution_count": null,
   "metadata": {},
   "outputs": [],
   "source": [
    "#TODO: generate [1,0,1,0,1] using a broadcasted operator and a range\n",
    "#hint: odd numbers have a remainder of 1 when you divide them by 2\n",
    "#and even numbers have a remainder of 0 when you divide them by 2\n"
   ]
  },
  {
   "cell_type": "markdown",
   "metadata": {},
   "source": [
    "**Creating and using variables**\n",
    "\n",
    "It's common to want to store some computed values to use them later.\n",
    "We do this by assigning variables with the = operator."
   ]
  },
  {
   "cell_type": "code",
   "execution_count": null,
   "metadata": {},
   "outputs": [],
   "source": [
    "#the = operator assignes a value to a letter or word, which we call a variable.\n",
    "\n",
    "x = 5 #x is assigned to be 5. \n",
    "\n"
   ]
  },
  {
   "cell_type": "code",
   "execution_count": null,
   "metadata": {},
   "outputs": [],
   "source": [
    "x + 3 #we can call functions or operators on x, and it will be treated as 5.\n",
    "#note that x is being used in a different cell: this assignment stores all variables between cells for later use."
   ]
  },
  {
   "cell_type": "code",
   "execution_count": null,
   "metadata": {},
   "outputs": [],
   "source": [
    "#TODO: assign x and y to make this equation true\n",
    "x = TODO\n",
    "y = TODO\n",
    "\n",
    "x + y ^ 2 = 5"
   ]
  },
  {
   "cell_type": "code",
   "execution_count": null,
   "metadata": {},
   "outputs": [],
   "source": [
    "#we can also assign arrays to variables\n",
    "a = [1 2 3;\n",
    "    4 5 6]"
   ]
  },
  {
   "cell_type": "code",
   "execution_count": null,
   "metadata": {},
   "outputs": [],
   "source": [
    "#You can \"index\" into an array by using square brackets.\n",
    "#the first argument is the vertical position, and the second is the horizontal position\n",
    "#both defined from the top left corner of the array. \n",
    "a[1,2] "
   ]
  },
  {
   "cell_type": "code",
   "execution_count": null,
   "metadata": {},
   "outputs": [],
   "source": [
    "#you can use end to reference the last index for that array\n",
    "a[end,1] #we want the element on the last vertical position (bottommost) and the 1st horizontal position"
   ]
  },
  {
   "cell_type": "code",
   "execution_count": null,
   "metadata": {},
   "outputs": [],
   "source": [
    "#TODO: get 6 by indexing into a\n"
   ]
  },
  {
   "cell_type": "code",
   "execution_count": null,
   "metadata": {},
   "outputs": [],
   "source": [
    "#You can also get a portion of an array by using ranges.\n",
    "a[1:2,2] #I want the array of a[1,2] and a[2,2]"
   ]
  },
  {
   "cell_type": "code",
   "execution_count": null,
   "metadata": {},
   "outputs": [],
   "source": [
    "#TODO: use indexing to get this array from a:\n",
    "#[1 2; \n",
    "#4 5]"
   ]
  },
  {
   "cell_type": "code",
   "execution_count": null,
   "metadata": {},
   "outputs": [],
   "source": [
    "#TODO: set all elements of a to 0\n",
    "#remember, = is an operator!\n",
    "a TODO 0"
   ]
  },
  {
   "cell_type": "markdown",
   "metadata": {
    "deletable": false,
    "editable": false,
    "nbgrader": {
     "cell_type": "markdown",
     "checksum": "fcc7852cf0889b68894276add6776a52",
     "grade": false,
     "grade_id": "cell-84ec179c1fa584c3",
     "locked": true,
     "schema_version": 3,
     "solution": false,
     "task": false
    }
   },
   "source": [
    "**Solving and graphing your own functions**\n",
    "\n",
    "Julia can also help solve any equation that you input.  There are two main ways to declare a function in Julia.\n",
    "\n",
    "Let's practice with the basic linear function:  \n",
    "                                                y = 2x \n",
    "\n",
    "The first one is the most simple:"
   ]
  },
  {
   "cell_type": "code",
   "execution_count": null,
   "metadata": {},
   "outputs": [],
   "source": [
    "#this defines a custom function that you can use in future lines of code\n",
    "#make sure to run this code again if you restart and need to use f(x) again\n",
    "f(x) = 2*x"
   ]
  },
  {
   "cell_type": "code",
   "execution_count": null,
   "metadata": {},
   "outputs": [],
   "source": [
    "#let's evaluate that function to try it out\n",
    "println(f(5))\n",
    "println(f(3))\n",
    "println(f(-2))"
   ]
  },
  {
   "cell_type": "code",
   "execution_count": null,
   "metadata": {},
   "outputs": [],
   "source": [
    "#of course, we can always just use a broadcast to make that statement cleaner!\n",
    "f.([5,3,-2]) #or f([5,3,-2])\n"
   ]
  },
  {
   "cell_type": "code",
   "execution_count": null,
   "metadata": {
    "deletable": false,
    "editable": false,
    "nbgrader": {
     "cell_type": "code",
     "checksum": "7cc9b2edf24e24fbe16c03d30498c3ca",
     "grade": false,
     "grade_id": "cell-dd48daa9716b336c",
     "locked": true,
     "schema_version": 3,
     "solution": false,
     "task": false
    }
   },
   "outputs": [],
   "source": [
    "#above the program accepts the function, evaluates it and annotates\n",
    "\n",
    "#Now let's get ready to plot this function!\n",
    "\n",
    "#These lines give Julia the ability to plot functions.  This may take a while, but it is necessary.\n",
    "# When you see [*], that means Julia is working hard to do what you told it. Your commands may take just a few \n",
    "# lines, but Julia is probably dealing with a lot of files and code, all of which is hidden from us. \n",
    "using Plots\n",
    "gr()"
   ]
  },
  {
   "cell_type": "markdown",
   "metadata": {},
   "source": [
    "\n",
    "\n",
    "For example, let's say we want to plot the function f(x) = 2 * x from 0 to 5, with a data point at every whole number.\n",
    "That would lead to this table:\n",
    "\n",
    "| x       |             f(x) |\n",
    "| :----------- | -----------: |\n",
    "| 0      | 0       |\n",
    "| 1   | 2        |\n",
    "| 2      | 4       |\n",
    "| 3   | 6        |\n",
    "| 4      | 8       |\n",
    "| 5   | 10        |\n",
    "\n",
    "\n",
    "Julia's plot() function works by taking two inputs: \n",
    "\n",
    "- a vector representing the first column, your x values\n",
    "- a vector representing the second column, your f(x) values"
   ]
  },
  {
   "cell_type": "code",
   "execution_count": null,
   "metadata": {},
   "outputs": [],
   "source": [
    "#so in julia, we would plot the table like this:\n",
    "plot([0,1,2,3,4,5],\n",
    "    [0,2,4,6,8,10])\n",
    "\n",
    "#julia allows you to put arguments onto separate lines for readability. Just don't forget the comma.\n",
    "#the \"y1\" here is because we didn't give this plot a name."
   ]
  },
  {
   "cell_type": "code",
   "execution_count": null,
   "metadata": {
    "scrolled": true
   },
   "outputs": [],
   "source": [
    "#of course, because we have f defined, we don't need to do the calculation by hand:\n",
    "plot([0,1,2,3,4,5],\n",
    "    f.([0,1,2,3,4,5]))"
   ]
  },
  {
   "cell_type": "code",
   "execution_count": null,
   "metadata": {},
   "outputs": [],
   "source": [
    "#add the nice range progression\n",
    "\n",
    "#Instead of throwing out our old plot, we can always draw a new one on top of it\n",
    "#You can do this by using plot!()\n",
    "\n",
    "g(x) = x + 3 #let's define another function to try this out\n",
    "\n",
    "#first, plot f from 0 to 5. Note that we can make plotting even easier with ranges!\n",
    "plot(0:5,f.(0:5))\n",
    "\n",
    "#now plot g from 0 to 5, on the same graph\n",
    "plot!(0:5,g.(0:5))\n",
    "\n",
    "#note that y1 is the first plot and y2 is the second.\n"
   ]
  },
  {
   "cell_type": "markdown",
   "metadata": {
    "deletable": false,
    "editable": false,
    "nbgrader": {
     "cell_type": "markdown",
     "checksum": "88aedb46efb07b9aea84def714ced15e",
     "grade": false,
     "grade_id": "cell-9f1a99a3704a6484",
     "locked": true,
     "schema_version": 3,
     "solution": false,
     "task": false
    }
   },
   "source": [
    "This graph shows that f(x) = 2x intersects with f(x) = x + 3 at x=3! \n",
    "### Problem 2. Practice with one of the optional systems in the Drill Problem Set\n",
    "\n",
    "                                                    x − 2y = −2\n",
    "                                                     x + y = 4\n",
    "                                                \n",
    "                                                \n",
    "                                                \n",
    "Step 1:  Rearrange Both equations so that y is isolated on the left side:\n",
    "\n",
    "Equation 1: y1 = ____________\n",
    "\n",
    "Equation 2: y2 = ____________"
   ]
  },
  {
   "cell_type": "code",
   "execution_count": null,
   "metadata": {
    "deletable": false,
    "nbgrader": {
     "cell_type": "code",
     "checksum": "96d37de74b57efeaab99eaf498bcba3b",
     "grade": false,
     "grade_id": "problem2",
     "locked": false,
     "schema_version": 3,
     "solution": true,
     "task": false
    }
   },
   "outputs": [],
   "source": [
    "#TODO: declare both of those equations as code functions y1(x) and y2(x)\n",
    "y1(x) = \n",
    "y2(x) = \n",
    "\n",
    "#Now plot them on the same graph.  \n",
    "\n"
   ]
  },
  {
   "cell_type": "markdown",
   "metadata": {},
   "source": [
    "Now that you have plotted the system, you can find the solution as the intersection of the lines!\n",
    "\n",
    "Now that you have completed the module, you should be able to:\n",
    "\n",
    "- Perform basic calculations in Julia\n",
    "- Create and manipulate arrays for mass data processing\n",
    "- Create and manipulate variables and functions\n",
    "- Plot functions\n",
    "\n",
    "Questions?"
   ]
  }
 ],
 "metadata": {
  "kernelspec": {
   "display_name": "Julia 1.6.1",
   "language": "julia",
   "name": "julia-1.6"
  },
  "language_info": {
   "file_extension": ".jl",
   "mimetype": "application/julia",
   "name": "julia",
   "version": "1.6.1"
  }
 },
 "nbformat": 4,
 "nbformat_minor": 4
}
