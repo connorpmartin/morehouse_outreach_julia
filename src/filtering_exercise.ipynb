{
 "cells": [
  {
   "cell_type": "markdown",
   "metadata": {
    "deletable": false,
    "editable": false,
    "nbgrader": {
     "cell_type": "markdown",
     "checksum": "7aae1c640c508c1e900fc8476e28323c",
     "grade": false,
     "grade_id": "cell-42df9f51415be180",
     "locked": true,
     "schema_version": 3,
     "solution": false,
     "task": false
    }
   },
   "source": [
    "Derived from ROB 101: Computational Linear Algebra\n",
    "# Filters and Image Analysis\n",
    "#### Purpose:  Use filters to analyse and denoise images\n"
   ]
  },
  {
   "cell_type": "markdown",
   "metadata": {},
   "source": [
    "#### Suppose that we observe a bunch of trees and record their age in years and height in meters.\n",
    "Let's also suppose that the height of a tree in meters is half of its age in years. This is not actually true, but we can assume it for this excersise.\n",
    "\n",
    "So for some tree with age A and height H, \n",
    "\n",
    "H = A / 2.\n"
   ]
  },
  {
   "cell_type": "code",
   "execution_count": null,
   "metadata": {},
   "outputs": [],
   "source": [
    "tree_ages = 5:5:150 #let's suppose we view one tree of age 5, one tree of age 10... all the way to 150 years\n",
    "\n",
    "#TODO: generate the corresponding tree_heights using the equation above\n",
    "tree_heights = "
   ]
  },
  {
   "cell_type": "markdown",
   "metadata": {},
   "source": [
    "Now we can plot the data to observe our trend."
   ]
  },
  {
   "cell_type": "code",
   "execution_count": null,
   "metadata": {},
   "outputs": [],
   "source": [
    "using Plots\n",
    "gr() #load the plots module and get everything ready"
   ]
  },
  {
   "cell_type": "code",
   "execution_count": null,
   "metadata": {},
   "outputs": [],
   "source": [
    "#scatter is like plot, but it does not try to connect the data points together.\n",
    "#The xlabel and ylabel inputs are special arguments which tell the function how to label the data.\n",
    "\n",
    "scatter(tree_ages,tree_heights, xlabel = \"Tree ages\",ylabel = \"Tree heights\",label = \"\")"
   ]
  },
  {
   "cell_type": "markdown",
   "metadata": {},
   "source": [
    "As expected, it is easy to see a linear trend when we plot the data. However, let's suppose that our tree-measuring device is not very precise, and it frequently underestimates or overestimates heights. To be precise, if the true height of the tree is x, the device will report a height of anywhere between x - 10 and x + 10.\n",
    "\n",
    "We can represent this by calling the rand function, which generates random numbers.\n",
    "rand() generates a single random number from 0 to 1, and rand(n) generates a bunch of random numbers from 0 to 1 in a length n vector.\n",
    "\n",
    "We will also be using the size(x,d) function, which returns the size of x along dimension d.\n",
    "So if x is a 3 by 2 array, then size(x,1) = 3 and size(x,2) = 2."
   ]
  },
  {
   "cell_type": "code",
   "execution_count": null,
   "metadata": {},
   "outputs": [],
   "source": [
    "rand(3)"
   ]
  },
  {
   "cell_type": "code",
   "execution_count": null,
   "metadata": {},
   "outputs": [],
   "source": [
    "#you can multiply and subtract the result of rand to get random numbers between bounds other than [0,1]\n",
    "2 * rand() + 3 #what are the bounds on this random number?"
   ]
  },
  {
   "cell_type": "code",
   "execution_count": null,
   "metadata": {},
   "outputs": [],
   "source": [
    "#TODO: generate a single number between -2 and 2\n"
   ]
  },
  {
   "cell_type": "code",
   "execution_count": null,
   "metadata": {},
   "outputs": [],
   "source": [
    "num_observations = length(tree_ages) #how many trees did we observe?\n",
    "\n",
    "#TODO: use your method from the last excersise to make a noise vector of size num_observations\n",
    "#whose elements range from [-10,10]\n",
    "#make sure to broadcast when necessary!\n",
    "noise =                "
   ]
  },
  {
   "cell_type": "code",
   "execution_count": null,
   "metadata": {},
   "outputs": [],
   "source": [
    "#verification plotting to ensure that you are generating data in the right range\n",
    "#the points should be between -10 and 10 on the y axis\n",
    "scatter(tree_ages,noise,xlabel = \"Tree ages\",ylabel = \"Noise\",label=\"\")"
   ]
  },
  {
   "cell_type": "code",
   "execution_count": null,
   "metadata": {},
   "outputs": [],
   "source": [
    "noisy_heights = tree_heights .+ noise #add the errors to the heights"
   ]
  },
  {
   "cell_type": "code",
   "execution_count": null,
   "metadata": {
    "scrolled": true
   },
   "outputs": [],
   "source": [
    "#\"noise\" is the term for error in your data: basically, the stuff you don't want to exist.\n",
    "#look at how it's ruined our plot!\n",
    "\n",
    "scatter(tree_ages,noisy_heights, xlabel = \"Tree ages\",ylabel = \"Noisy tree heights\",label = \"\")"
   ]
  },
  {
   "cell_type": "markdown",
   "metadata": {},
   "source": [
    "Great, so we have successfully made a mess of our data. \n",
    "Let's suppose we only have access to noisy_heights. How would we fix this mess and get tree_heights?\n",
    "\n",
    "One way is to average nearby elements together. \n",
    "\n",
    "The reason this should work is because of a difference in redundancy. For tree_heights, the linear trend is very, very easy to see. Even if we only had 3 or 4 data points, we could tell what the data is doing and predict future tree heights. So we have many more data points than we need.\n",
    "\n",
    "However, the noise is random. It has no structure: we would never be able to completely predict it if we saw a few data points. So the noise does not have much redundancy.\n",
    "\n",
    "When we average nearby elements, we are putting the data through a trial. The resilient portions of the data will make it through damaged but relatively unscathed, and the noise will not.\n",
    "\n",
    "To average elements, we will use the mean(x) function, which calculates the average of all elements of x."
   ]
  },
  {
   "cell_type": "code",
   "execution_count": null,
   "metadata": {},
   "outputs": [],
   "source": [
    "using Statistics \n",
    "\n",
    "#we can calculate an average using indexing\n",
    "print(noisy_heights[1:3]) #the first three elements of our noisy data\n",
    "first_three_average = mean(noisy_heights[1:3]) #the average of that vector"
   ]
  },
  {
   "cell_type": "code",
   "execution_count": null,
   "metadata": {},
   "outputs": [],
   "source": [
    "#TODO: use indexing to make a function which calculates the average of some index noisy_heights[i] \n",
    "#and its surrounding elements, given an index i\n",
    "a(i) = \n",
    "\n",
    "#a quick test: the average of the first three elements should be a(2)\n",
    "a(2)"
   ]
  },
  {
   "cell_type": "code",
   "execution_count": null,
   "metadata": {
    "scrolled": true
   },
   "outputs": [],
   "source": [
    "#Now we can calculate that neighbor average for each viable index.\n",
    "#Note that we will have to throw out the first and last data points because they only have one neighbor in.\n",
    "\n",
    "less_noisy_heights = b.() #what range should we use?\n",
    "\n",
    "scatter(tree_ages[2:end-1],less_noisy_heights, xlabel = \"Tree ages\",ylabel = \"Less noisy tree heights\",label = \"\")"
   ]
  },
  {
   "cell_type": "markdown",
   "metadata": {},
   "source": [
    "That's definitely better than before, but not good enough. We got this result by taking the average of each data point with its neighbors, but we could perform a more drastic operation by taking averages across more points."
   ]
  },
  {
   "cell_type": "code",
   "execution_count": null,
   "metadata": {},
   "outputs": [],
   "source": [
    "#calculate the average of the first 5 points in the dataset\n",
    "print(noisy_heights[1:5]) #the first three elements of our noisy data\n",
    "first_three_average = mean(noisy_heights[end-5:end]) #the average of that vector"
   ]
  },
  {
   "cell_type": "code",
   "execution_count": null,
   "metadata": {},
   "outputs": [],
   "source": [
    "#create a function which averages noisy_heights[i] with its neighbors, 2 steps in either direction.\n",
    "b(i) = "
   ]
  },
  {
   "cell_type": "code",
   "execution_count": null,
   "metadata": {},
   "outputs": [],
   "source": [
    "even_less_noisy_heights = b.( ) #what range should we use now?\n",
    "\n",
    "scatter(tree_ages[3:end-2],even_less_noisy_heights, xlabel = \"Tree ages\",ylabel = \"Even less noisy tree heights\",label = \"\")"
   ]
  },
  {
   "cell_type": "markdown",
   "metadata": {},
   "source": [
    "That's a lot better! \n",
    "\n",
    "Unfortunately, averaging also damages the real trend a lot of the time. Data analysis is a balancing act of throwing out the right amount and types of data so you can keep the signal (your real trend) and remove the noise."
   ]
  },
  {
   "cell_type": "markdown",
   "metadata": {},
   "source": [
    "Matrices are useful in a lot of ways, but one notable application lies in analysing images.\n",
    "Consider a grayscale image. It is comprised of a large number of pixels which vary from black to grey to white.\n",
    "\n",
    "So if an image is W pixels tall and H pixels wide, we can represent it as a W by H array of numbers, each of which has a value from 0 (black) to 1 (white). Values between 0 and 1 represent shades of gray. "
   ]
  },
  {
   "cell_type": "code",
   "execution_count": null,
   "metadata": {},
   "outputs": [],
   "source": [
    "#We'll need the images package to import images\n",
    "using Images\n",
    "#Let's try importing the Morehouse logo to start.\n",
    "morehouse_logo_image = load(\"morehouse.jpg\") #this is grabbing an image in the same directory as the Jupyter Notebook\n",
    "\n",
    "#Note that the morehouse logo is very simple: it has a lot of straight lines and very few frills. \n",
    "#This means that its redundancy is very high. \n",
    "#If we saw a portion of the logo, we could probably infer what the rest of it looked like."
   ]
  },
  {
   "cell_type": "code",
   "execution_count": null,
   "metadata": {},
   "outputs": [],
   "source": [
    "#Now, let's convert the logo to a grayscale matrix.\n",
    "morehouse_grayscale_image = Gray.(morehouse_logo_image)"
   ]
  },
  {
   "cell_type": "code",
   "execution_count": null,
   "metadata": {
    "scrolled": true
   },
   "outputs": [],
   "source": [
    "#from here, let's convert the logo to a matrix so we can work with it.\n",
    "morehouse_matrix = convert(Array{Float64}, morehouse_grayscale_image)\n",
    "\n",
    "#note that there is already noise in the image (we would expect the edges to be made of a uniform gray)\n",
    "#this is because the image already had compression errors when it was found on the internet."
   ]
  },
  {
   "cell_type": "code",
   "execution_count": null,
   "metadata": {
    "scrolled": true
   },
   "outputs": [],
   "source": [
    "#when you call size() without the second argument, it returns a set of the sizes along each dimension\n",
    "height,width = size(morehouse_matrix) \n",
    "\n",
    "#okay, now let's add some real noise!\n",
    "#TODO: create a matrix of values between -.2 and .2\n",
    "#note that rand(h,w) creates a h by w matrix of entries between 0 and 1\n",
    "\n",
    "noise = "
   ]
  },
  {
   "cell_type": "code",
   "execution_count": null,
   "metadata": {},
   "outputs": [],
   "source": [
    "#okay, how does the image look now?\n",
    "#You can display a matrix as a grayscale image by calling Gray.() to convert it.\n",
    "noisy_morehouse_matrix = morehouse_matrix .+ noise\n",
    "Gray.(noisy_morehouse_matrix)"
   ]
  },
  {
   "cell_type": "code",
   "execution_count": null,
   "metadata": {},
   "outputs": [],
   "source": [
    "#TODO: Use indexing to get A[2,2] and the 8 elements immediately surrounding it.\n",
    "#Note that the introduction has an example of using indexing to get pieces of matrices.\n",
    "top_left_corner = \n",
    "#you can check your work by looking at the top corner of the output, 2 cells up."
   ]
  },
  {
   "cell_type": "code",
   "execution_count": null,
   "metadata": {},
   "outputs": [],
   "source": [
    "#Now try to apply the averaging strategy from before. \n",
    "#How do we get the 8 neighbors of some point (i,j) in this matrix?\n",
    "\n",
    "#TODO create c, which returns the average of A[i,j] and the 8 elements surrounding it.\n",
    "c(i,j) = \n",
    "\n",
    "println(c(2,2))\n",
    "println(mean(top_left_corner))"
   ]
  },
  {
   "cell_type": "code",
   "execution_count": null,
   "metadata": {},
   "outputs": [],
   "source": [
    "#now we can use broadcasting to calculate the average for each viable index. \n",
    "#TODO what are these ranges?\n",
    "height_range = \n",
    "width_range = \n",
    "\n",
    "#because this array is two dimensional we need to use the for command to loop over these values.\n",
    "#the \"for\" command and the surrounding [] mean that for each (i,j) pair, we call c on it\n",
    "#and put the result in the output matrix.\n",
    "less_noisy_morehouse_matrix = [c(i,j) for i in height_range,j in width_range]\n",
    "Gray.(less_noisy_morehouse_matrix)"
   ]
  },
  {
   "cell_type": "code",
   "execution_count": null,
   "metadata": {},
   "outputs": [],
   "source": [
    "#Note that the graininess is a bit better, but the real image has gotten a lot more blurry...\n",
    "#TODO: try various averaging sizes (at least one more) and see what works.\n",
    "#You could try averaging everything within 2 indices of the main index, or 3 or more.\n",
    "#Try to see how the size of our averaging operation effects the image.\n"
   ]
  },
  {
   "cell_type": "code",
   "execution_count": null,
   "metadata": {},
   "outputs": [],
   "source": [
    "#Optional extra cell."
   ]
  },
  {
   "cell_type": "markdown",
   "metadata": {},
   "source": []
  }
 ],
 "metadata": {
  "kernelspec": {
   "display_name": "Julia 1.6.1",
   "language": "julia",
   "name": "julia-1.6"
  },
  "language_info": {
   "file_extension": ".jl",
   "mimetype": "application/julia",
   "name": "julia",
   "version": "1.6.1"
  }
 },
 "nbformat": 4,
 "nbformat_minor": 4
}