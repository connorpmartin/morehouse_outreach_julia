{
 "cells": [
  {
   "cell_type": "markdown",
   "id": "6aba6c62-f463-414e-b33e-b1bfd9cbd962",
   "metadata": {},
   "source": [
    "# Linear Regression\n",
    "\n",
    "In this notebook, we will use linear regression to infer properties about a planet like an astronomer would. The term \"Linear Regression\" is just a fancy way of saying \"solving a linear system of equations.\""
   ]
  },
  {
   "cell_type": "code",
   "execution_count": null,
   "id": "aa6ce209-1d9f-4830-bc0a-91308abf00ac",
   "metadata": {
    "ExecuteTime": {
     "end_time": "2021-06-29T00:00:34.124000-04:00",
     "start_time": "2021-06-29T04:00:20.550Z"
    },
    "execution": {
     "iopub.execute_input": "2021-06-24T13:36:25.517000-04:00",
     "iopub.status.busy": "2021-06-24T13:36:25.516000-04:00",
     "iopub.status.idle": "2021-06-24T13:36:26.353000-04:00",
     "shell.execute_reply": "2021-06-24T13:36:26.353000-04:00"
    },
    "tags": []
   },
   "outputs": [],
   "source": [
    "# We will load CSV data and plot it, so we need these two packages\n",
    "import CSV\n",
    "using Plots\n",
    "gr(legend=false);"
   ]
  },
  {
   "cell_type": "markdown",
   "id": "5ac1a1d6",
   "metadata": {},
   "source": [
    "## Warm-up & Review\n",
    "Consider this system of equations which is similar to those we looked at in lecture\n",
    "$$\n",
    "x_1 + x_2 + 2x_3 = 7 \\\\\n",
    "2x_1 - 6x_2 - x_3 = 3 \\\\\n",
    "x_1 + 2x_3 = 4\n",
    "$$\n",
    "We can write this system in matrix form like this:\n",
    "$$\n",
    "\\begin{bmatrix}\n",
    "1 & 1 & 2 \\\\\n",
    "2 & -6 & -1 \\\\\n",
    "1 & 0  & 2\n",
    "\\end{bmatrix}\n",
    "\\begin{bmatrix}\n",
    "x_1\\\\\n",
    "x_2\\\\\n",
    "x_3\n",
    "\\end{bmatrix}\n",
    "=\\begin{bmatrix}\n",
    "7\\\\\n",
    "3\\\\\n",
    "4\n",
    "\\end{bmatrix}\n",
    "$$\n",
    "In this form, we can have Julia solve it for us!"
   ]
  },
  {
   "cell_type": "code",
   "execution_count": null,
   "id": "6f82eb86",
   "metadata": {
    "ExecuteTime": {
     "end_time": "2021-06-29T00:47:08.215000-04:00",
     "start_time": "2021-06-29T04:47:07.032Z"
    }
   },
   "outputs": [],
   "source": [
    "A = [1 1 2; 2 -6 -1; 1 0 2]\n",
    "y = [7; 3; 4]\n",
    "# We solve for x with the backslash operator\n",
    "A\\y"
   ]
  },
  {
   "cell_type": "markdown",
   "id": "6330c17b",
   "metadata": {},
   "source": [
    "In this notebook we will use Julia to solve very large systems of equations."
   ]
  },
  {
   "cell_type": "markdown",
   "id": "ad2a7128-f0cf-4707-be09-a94f0057e343",
   "metadata": {},
   "source": [
    "## Example 1: Object dropped on unknown planet\n",
    "In this example, we will take some data and try to estimate the equation that created it.\n",
    "The csv file \"gravity.csv\" contains samples of an objects position as it falls under the influence of gravity on an unknown planet. It will be your job to determine the strength of gravity from the data and then identify the planet.\n",
    "\n",
    "Because real position sensors are imperfect, there is error in the measured positions. We generally refer to this as \"noise\" in the data. If you have ever tried to use GPS inside a building or parking structure and seen your dot bounce all over the place, then you have observed this positional noise."
   ]
  },
  {
   "cell_type": "code",
   "execution_count": null,
   "id": "52ace22e",
   "metadata": {
    "ExecuteTime": {
     "end_time": "2021-06-29T00:00:56.835000-04:00",
     "start_time": "2021-06-29T04:00:20.580Z"
    },
    "execution": {
     "iopub.execute_input": "2021-06-24T14:17:57.111000-04:00",
     "iopub.status.busy": "2021-06-24T14:17:57.110000-04:00",
     "iopub.status.idle": "2021-06-24T14:17:57.300000-04:00",
     "shell.execute_reply": "2021-06-24T14:17:57.299000-04:00"
    },
    "tags": []
   },
   "outputs": [],
   "source": [
    "# Here we load our data from a CSV file\n",
    "data = CSV.File(\"gravity.csv\")\n",
    "t = data.t\n",
    "y_measured = data.y;"
   ]
  },
  {
   "cell_type": "code",
   "execution_count": null,
   "id": "aed4f791",
   "metadata": {
    "ExecuteTime": {
     "end_time": "2021-06-29T00:00:59.062000-04:00",
     "start_time": "2021-06-29T04:00:20.583Z"
    }
   },
   "outputs": [],
   "source": [
    "# Step 1\n",
    "# The first step of data analysis is to explore the data your are given\n",
    "# What is the range of the y_measured data?\n",
    "# How many samples are there in t and in y_measured?\n",
    "# How often are the samples collected?\n",
    "# you may need functions such as maximum(), minimum(), length()\n",
    "??"
   ]
  },
  {
   "cell_type": "code",
   "execution_count": null,
   "id": "ea1b5f4b-9eae-4c42-b41b-7c23032be0f3",
   "metadata": {
    "ExecuteTime": {
     "end_time": "2021-06-29T00:01:19.849000-04:00",
     "start_time": "2021-06-29T04:00:20.586Z"
    },
    "execution": {
     "iopub.execute_input": "2021-06-24T14:17:57.111000-04:00",
     "iopub.status.busy": "2021-06-24T14:17:57.110000-04:00",
     "iopub.status.idle": "2021-06-24T14:17:57.300000-04:00",
     "shell.execute_reply": "2021-06-24T14:17:57.299000-04:00"
    },
    "tags": []
   },
   "outputs": [],
   "source": [
    "# Step 2\n",
    "# An important part of data exploration is visualization\n",
    "# the scatter function plots distinct data points\n",
    "# it easy to see this data has a lot of positional noise!\n",
    "scatter(??, ??, title=\"Measured Falling Object Positions\", ylabel=\"Height (m)\", xlabel=\"Time (s)\")"
   ]
  },
  {
   "cell_type": "markdown",
   "id": "f8ae6ac2-b064-413c-9885-7fe6877b124a",
   "metadata": {},
   "source": [
    "Physics tells us that an object falling under the influence of gravity will obey the following equation:\n",
    "$$ \\Large x_1 - x_2\\frac{t^2}2 = y$$\n",
    "where \"$y$\" is the height at time \"$t$\", \"$x_1$\" is the initial height of the object, and \"$x_2$\" is the acceleration due to gravity on the planet. We know the measured \"$y$\" at various times \"$t$\", but we want to estimate the initial height \"$x_1$\" and the strength of gravity \"$x_2$\"."
   ]
  },
  {
   "cell_type": "code",
   "execution_count": null,
   "id": "3242b20c-bd72-4357-9378-a51175ab1660",
   "metadata": {
    "ExecuteTime": {
     "end_time": "2021-06-29T00:01:20.539000-04:00",
     "start_time": "2021-06-29T04:00:20.594Z"
    },
    "execution": {
     "iopub.execute_input": "2021-06-24T14:27:06.832000-04:00",
     "iopub.status.busy": "2021-06-24T14:27:06.832000-04:00",
     "iopub.status.idle": "2021-06-24T14:27:07.771000-04:00",
     "shell.execute_reply": "2021-06-24T14:27:07.770000-04:00"
    }
   },
   "outputs": [],
   "source": [
    "# Step 3\n",
    "# Create the left-hand side of the equation in Julia using x1, x2 and t\n",
    "# Hint: because t is a vector of values, you will need dot operations like .-, .^, etc.\n",
    "f(x1, x2) = ??\n",
    "\n",
    "# When you write a function, its good practice to make sure it runs!\n",
    "y_test = f(100, 9.81)\n",
    "@assert size(y_test) == size(y_measured)"
   ]
  },
  {
   "cell_type": "markdown",
   "id": "aeb04346",
   "metadata": {},
   "source": [
    "For each value of \"$y$\" and \"$t$\", we have a different version of the above equation we can use to solve for $x_1$ and $x_2$. Thus, the above equation (we call this our physics \"model\") and our data points form a system of equations!\n",
    "$$\n",
    "x_1 - x_2 \\frac{0.00^2}{2} = 103.644 \\\\\n",
    "x_1 - x_2 \\frac{0.05^2}{2} = 102.569 \\\\\n",
    "x_1 - x_2 \\frac{0.10^2}{2} = 105.298 \\\\\n",
    "x_1 - x_2 \\frac{0.15^2}{2} = 98.8994 \\\\\n",
    "\\vdots \\\\\n",
    "x_1 - x_2 \\frac{6.90^2}{2} = 9.1762 \\\\\n",
    "x_1 - x_2 \\frac{6.95^2}{2} = 11.7289 \\\\\n",
    "x_1 - x_2 \\frac{7.00^2}{2} = 4.11701 \\\\\n",
    "$$\n",
    "Our system of equations has two unknowns (initial height and gravity) and many more equations (one for each data point). We cannot solve this system of equations by hand, but Julia can help us! In order for Julia to understand our system of equations, we need to write our system of equations as a matrix like this:\n",
    "\n",
    "$$\n",
    "{\\Large Ax=y}\\\\\n",
    "\\begin{bmatrix}\n",
    "1 & - \\frac{0.00^2}{2} \\\\\n",
    "1 & - \\frac{0.05^2}{2} \\\\\n",
    "1 & - \\frac{0.10^2}{2} \\\\\n",
    "1 & - \\frac{0.15^2}{2} \\\\\n",
    "\\vdots & \\vdots \\\\\n",
    "1 & - \\frac{6.90^2}{2} \\\\\n",
    "1 & - \\frac{6.95^2}{2} \\\\\n",
    "1 & - \\frac{7.00^2}{2}\n",
    "\\end{bmatrix}\n",
    "\\begin{bmatrix}\n",
    "x_1 \\\\\n",
    "x_2\n",
    "\\end{bmatrix}\n",
    "=\n",
    "\\begin{bmatrix}\n",
    "103.644 \\\\\n",
    "102.569 \\\\\n",
    "105.298 \\\\\n",
    "98.8994 \\\\\n",
    "\\vdots\\\\\n",
    "9.1762 \\\\\n",
    "11.7289 \\\\\n",
    "4.11701\n",
    "\\end{bmatrix}\n",
    "$$\n",
    "We have a column of 1's because their is no value in front of each $x_1$, so that is the same as having a 1 multiplying each $x_1$. The second column are the values multiplying $x_2$ in our equations (We interpret substraction as being the same as multiplying by -1). "
   ]
  },
  {
   "cell_type": "code",
   "execution_count": null,
   "id": "ad59e169",
   "metadata": {
    "ExecuteTime": {
     "end_time": "2021-06-29T00:01:24.313000-04:00",
     "start_time": "2021-06-29T04:00:20.611Z"
    },
    "execution": {
     "iopub.execute_input": "2021-06-24T14:31:11.259000-04:00",
     "iopub.status.busy": "2021-06-24T14:31:11.246000-04:00",
     "iopub.status.idle": "2021-06-24T14:31:12.148000-04:00",
     "shell.execute_reply": "2021-06-24T14:31:12.147000-04:00"
    },
    "tags": []
   },
   "outputs": [],
   "source": [
    "# Step 4\n",
    "# Lets form our A matrix\n",
    "A = [ones(size(t)) -t.^2/2]\n",
    "# Another way to form our A matrix is to use our \"f\" function like this:\n",
    "# A = [f(1,0) f(0,1)]\n",
    "# Think about your \"f\" function and why these are equivalent\n",
    "A"
   ]
  },
  {
   "cell_type": "code",
   "execution_count": null,
   "id": "e2f223f6-bba6-47ef-8910-7d8b581486d8",
   "metadata": {
    "ExecuteTime": {
     "end_time": "2021-06-29T00:01:27.320000-04:00",
     "start_time": "2021-06-29T04:00:20.614Z"
    },
    "execution": {
     "iopub.execute_input": "2021-06-24T14:31:11.259000-04:00",
     "iopub.status.busy": "2021-06-24T14:31:11.246000-04:00",
     "iopub.status.idle": "2021-06-24T14:31:12.148000-04:00",
     "shell.execute_reply": "2021-06-24T14:31:12.147000-04:00"
    },
    "tags": []
   },
   "outputs": [],
   "source": [
    "# Step 5\n",
    "# Now that we have the A matrix and y vector, \n",
    "# we can solve the system of equations in Julia with the backslash operator\n",
    "height, gravity = ??\\??;\n",
    "println(\"\"\"\n",
    "estimated height = $height\n",
    "estimated gravity = $gravity\n",
    "\"\"\")"
   ]
  },
  {
   "cell_type": "code",
   "execution_count": null,
   "id": "4bd38281-f31c-437b-a611-b0162f3bb5a7",
   "metadata": {
    "ExecuteTime": {
     "end_time": "2021-06-29T00:01:28.895000-04:00",
     "start_time": "2021-06-29T04:00:20.618Z"
    },
    "execution": {
     "iopub.execute_input": "2021-06-24T14:31:11.259000-04:00",
     "iopub.status.busy": "2021-06-24T14:31:11.246000-04:00",
     "iopub.status.idle": "2021-06-24T14:31:12.148000-04:00",
     "shell.execute_reply": "2021-06-24T14:31:12.147000-04:00"
    },
    "tags": []
   },
   "outputs": [],
   "source": [
    "# Step 6\n",
    "y_estimate = f(??, ??)\n",
    "scatter(t, y_measured)\n",
    "plot!(??, ??, linewidth=5, ylabel=\"Height\", xlabel=\"Time\", title=\"Best Fit\")"
   ]
  },
  {
   "cell_type": "markdown",
   "id": "a210306f-b0d3-4840-9cb3-420e260807f6",
   "metadata": {},
   "source": [
    "Based on your estimated value of gravity, what planet is the object falling on? Use the following table to determine the planet.\n",
    "\n",
    "Body    | Radius [m]  | Acceleration Due to Gravity, \"g\" [m/s²]\n",
    "--------|-------------|--------\n",
    "Sun     | 6.96 x 10^8 | 274.1\n",
    "Mercury | 2.43 x 10^6 | 3.6  \n",
    "Venus   | 6.06 x 10^6 | 8.9  \n",
    "Earth   | 6.38 x 10^6 | 9.8  \n",
    "Moon    | 1.74 x 10^6 | 1.6  \n",
    "Mars    | 3.37 x 10^6 | 3.8\n",
    "Jupiter | 6.99 x 10^7 | 26.0\n",
    "Saturn  | 5.85 x 10^7 | 11.1  \n",
    "Uranus  | 2.33 x 10^7 | 10.7 \n",
    "Neptune | 2.21 x 10^7 | 14.1 \n",
    "Pluto   | 1.50 x 10^6 | 0.42  \n",
    "\n",
    "$\\tiny \\text{Source: http://www.aerospaceweb.org/question/astronomy/q0227.shtml}$"
   ]
  },
  {
   "cell_type": "markdown",
   "id": "bd55094d",
   "metadata": {},
   "source": [
    "Scientists are able to measure the radius of planets using telescopes and they estimate the acceleration due to gravity from data just like you just did. Using the radius of the planet and the gravity, we can estimate the mass of the planet without having to visit the planet! The three are related by the following equation:\n",
    "$$\n",
    "\\Large g = G \\frac{m}{r^2}\n",
    "$$\n",
    "where \"$g$\" is the acceleration due to gravity (we called it $x_1$ above), \"$m$\" is the unknown mass (in kg), \"$r$\" is the radius (from the table above), and \"$G$\" is the \"universal gravitation constant\" which equals $6.673\\times10^{-11}$."
   ]
  },
  {
   "cell_type": "code",
   "execution_count": null,
   "id": "cba2b20c",
   "metadata": {
    "ExecuteTime": {
     "end_time": "2021-06-29T00:01:29.826000-04:00",
     "start_time": "2021-06-29T04:00:20.636Z"
    }
   },
   "outputs": [],
   "source": [
    "# What is the mass of the planet you are observing? solve for \"m\" in the above equation\n",
    "G = 6.673*10^-11\n",
    "??"
   ]
  },
  {
   "cell_type": "markdown",
   "id": "68d61f32",
   "metadata": {},
   "source": [
    "Wow! that's pretty massive!"
   ]
  },
  {
   "cell_type": "markdown",
   "id": "e1b4d20c",
   "metadata": {},
   "source": [
    "## Example 2: Object launched from Volcano\n",
    "\n",
    "Let's try linear regression to solve a slightly different problem. You are collecting data on another unknown planet and observe the positions of a rock that was launched from an active volcano on the planet. We will use linear regression to estimate the height of the volcano, the strength of gravity, and the initial vertical velocity of the rock when it was launched from the volcano.\n",
    "\n",
    "This problem is similar to the problem we just solved, so if you get stuck on any step, refer to the same step in the previous example to get an idea of what to do.\n",
    "\n",
    "We will use the data from \"volcano.csv\" and use the following physical model for the motion of the rock:\n",
    "$$ \\Large x_1 - x_2\\frac{t^2}2 + x_3 t= y$$\n",
    "where, again, \"$y$\" is the height at time \"$t$\", \"$x_1$\" is the initial height of the rock (the height of the volcano), \"$x_2$\" is the acceleration due to gravity on the planet, and \"$x_3$\" is the initial vertical velocity. We will use the measured \"$y$\" at various times \"$t$\" to estimate the initial height \"$x_1$\", the strength of gravity \"$x_2$\", and the launch speed \"$x_3$\". Notice that this equation is very similar to the one from the previous example, but now we have an initial launch speed included.\n"
   ]
  },
  {
   "cell_type": "code",
   "execution_count": null,
   "id": "7cdbb92d",
   "metadata": {
    "ExecuteTime": {
     "end_time": "2021-06-29T00:01:29.854000-04:00",
     "start_time": "2021-06-29T04:00:20.672Z"
    }
   },
   "outputs": [],
   "source": [
    "# load our data from a CSV file\n",
    "data = CSV.File(\"volcano.csv\")\n",
    "t = data.t\n",
    "y_measured = data.y;"
   ]
  },
  {
   "cell_type": "code",
   "execution_count": null,
   "id": "20efc3ac",
   "metadata": {
    "ExecuteTime": {
     "end_time": "2021-06-29T00:01:29.862000-04:00",
     "start_time": "2021-06-29T04:00:20.674Z"
    }
   },
   "outputs": [],
   "source": [
    "# Step 1: explore the new data\n",
    "# What is the range of the y_measured data?\n",
    "# How many samples are there in t and in y_measured?\n",
    "# How often are the samples collected?\n",
    "# you may need functions such as maximum(), minimum(), length()\n",
    "??"
   ]
  },
  {
   "cell_type": "code",
   "execution_count": null,
   "id": "36b7137a",
   "metadata": {
    "ExecuteTime": {
     "end_time": "2021-06-29T00:01:29.942000-04:00",
     "start_time": "2021-06-29T04:00:20.677Z"
    }
   },
   "outputs": [],
   "source": [
    "# Step 2: plot your data using scatter\n",
    "scatter(??, ??, title=\"Measured Launched Object Positions\", ylabel=\"Height (m)\", xlabel=\"Time (s)\")"
   ]
  },
  {
   "cell_type": "code",
   "execution_count": null,
   "id": "082ab254",
   "metadata": {
    "ExecuteTime": {
     "end_time": "2021-06-29T00:01:30.380000-04:00",
     "start_time": "2021-06-29T04:00:20.679Z"
    },
    "execution": {
     "iopub.execute_input": "2021-06-24T14:27:06.832000-04:00",
     "iopub.status.busy": "2021-06-24T14:27:06.832000-04:00",
     "iopub.status.idle": "2021-06-24T14:27:07.771000-04:00",
     "shell.execute_reply": "2021-06-24T14:27:07.770000-04:00"
    }
   },
   "outputs": [],
   "source": [
    "# Step 3: Create our physical model\n",
    "# Create the left-hand side of the equation in Julia using x1, x2 and t\n",
    "# Hint: because t is a vector of values, you will need dot operations like .-, .^, etc.\n",
    "f(x1, x2, x3) = ??\n",
    "\n",
    "# Let's make sure it runs!\n",
    "y_test = f(100, 9.81, 10)\n",
    "@assert size(y_test) == size(y_measured)"
   ]
  },
  {
   "cell_type": "code",
   "execution_count": null,
   "id": "ed92488f",
   "metadata": {
    "ExecuteTime": {
     "end_time": "2021-06-29T00:01:30.579000-04:00",
     "start_time": "2021-06-29T04:00:20.684Z"
    }
   },
   "outputs": [],
   "source": [
    "# Step 4: Create your system of equations matrix A\n",
    "# this first column is the x1 coefficients\n",
    "# the second column is the x2 coefficients\n",
    "# the third column is the x3 coefficients\n",
    "# Hint: the first two columns can be created the same way as the previous example\n",
    "A = [?? ?? ??]\n",
    "A"
   ]
  },
  {
   "cell_type": "code",
   "execution_count": null,
   "id": "73917d54",
   "metadata": {
    "ExecuteTime": {
     "end_time": "2021-06-29T00:01:30.583000-04:00",
     "start_time": "2021-06-29T04:00:20.686Z"
    },
    "execution": {
     "iopub.execute_input": "2021-06-24T14:31:11.259000-04:00",
     "iopub.status.busy": "2021-06-24T14:31:11.246000-04:00",
     "iopub.status.idle": "2021-06-24T14:31:12.148000-04:00",
     "shell.execute_reply": "2021-06-24T14:31:12.147000-04:00"
    },
    "tags": []
   },
   "outputs": [],
   "source": [
    "# Step 5: Solve the system of equation with the backslash operator\n",
    "height, gravity, velocity = ??;\n",
    "println(\"\"\"\n",
    "estimated height = $height\n",
    "estimated gravity = $gravity\n",
    "estimated velocity = $velocity\n",
    "\"\"\")"
   ]
  },
  {
   "cell_type": "code",
   "execution_count": null,
   "id": "c44409b8",
   "metadata": {
    "ExecuteTime": {
     "end_time": "2021-06-29T00:01:45.838000-04:00",
     "start_time": "2021-06-29T04:01:45.781Z"
    },
    "execution": {
     "iopub.execute_input": "2021-06-24T14:31:11.259000-04:00",
     "iopub.status.busy": "2021-06-24T14:31:11.246000-04:00",
     "iopub.status.idle": "2021-06-24T14:31:12.148000-04:00",
     "shell.execute_reply": "2021-06-24T14:31:12.147000-04:00"
    },
    "tags": []
   },
   "outputs": [],
   "source": [
    "# Step 6: Plot the estimate with the data\n",
    "y_estimate = f(??, ??, ??)\n",
    "scatter(t, y_measured)\n",
    "plot!(??, ??, linewidth=5, ylabel=\"Height\", xlabel=\"Time\", title=\"Best Fit\")"
   ]
  },
  {
   "cell_type": "markdown",
   "id": "038135cf",
   "metadata": {},
   "source": [
    "What planet is this volcano on? Use the estimate acceleration due to gravity and the table above. In 2020, scientists discovered that this planet has at least 37 active volcanos! Using your estimate of gravity and the given radius in the table above, estimate the mass of this planet."
   ]
  },
  {
   "cell_type": "code",
   "execution_count": null,
   "id": "cd17f10d",
   "metadata": {
    "ExecuteTime": {
     "end_time": "2021-06-29T00:01:56.785000-04:00",
     "start_time": "2021-06-29T04:01:56.772Z"
    }
   },
   "outputs": [],
   "source": [
    "G = 6.673*10^-11\n",
    "??"
   ]
  },
  {
   "cell_type": "code",
   "execution_count": null,
   "id": "df71c951",
   "metadata": {
    "ExecuteTime": {
     "end_time": "2021-06-29T00:01:57.200000-04:00",
     "start_time": "2021-06-29T04:01:57.197Z"
    }
   },
   "outputs": [],
   "source": [
    "# Which of the two planets is more massive? By how much?\n",
    "??"
   ]
  },
  {
   "cell_type": "markdown",
   "id": "d767b964",
   "metadata": {},
   "source": [
    "In this notebook, we have explored linear regression to model different forms of falling objects. The applications of linear regression are much broader! Any discipline which collects data that it wants to understand better or use to make predictions will use linear regression. It is an essential tool in any data analysis toolbox. It is used to fit weather trends to predict future rainfall. It is used to model stock prices and oil prices. It is used in epidemiology, finance, biology, economics, finance, and machine learning. \"[It ranks as one of the most important tools used in these disciplines.](https://en.wikipedia.org/wiki/Linear_regression#Applications)\""
   ]
  },
  {
   "cell_type": "markdown",
   "id": "391ca71b-daa0-4162-b20b-51005bf65465",
   "metadata": {},
   "source": [
    "# Extra: Motion in 1D, How acceleration, velocity, and position are connected\n",
    "## Numerical Finite-Differences\n",
    "\n",
    "We were able to use the collected data to estimate the true positions of the objects as they fall. Let's use the estimated positions from the previous example to determine the objects velocity and acceleration as a function of time. \n",
    "\n",
    "The (average) velocity is the change in position divided by the change in time:\n",
    "$$\n",
    "v = \\frac{\\Delta y}{\\Delta t}\n",
    "$$\n",
    "Similarly, the (average) acceleration is the change in velocity divided by the change in time:\n",
    "$$\n",
    "a = \\frac{\\Delta v}{\\Delta t}\n",
    "$$\n",
    "We can compute these values over the timesteps given in Julia!"
   ]
  },
  {
   "cell_type": "code",
   "execution_count": null,
   "id": "e327f69d-ccad-4880-b3be-e382fec6cc6a",
   "metadata": {
    "ExecuteTime": {
     "end_time": "2021-06-29T00:05:13.059000-04:00",
     "start_time": "2021-06-29T04:05:06.061Z"
    }
   },
   "outputs": [],
   "source": [
    "# To do this numerically, we want a small timestep to avoid errors, \n",
    "# so we sample our physical model every 0.001 seconds.\n",
    "# We use the height, gravity, and velocity from the previous example.\n",
    "t = 0:0.001:15\n",
    "y = height .- gravity*t.^2/2 .+ velocity*t\n",
    "\n",
    "v = diff(y)./diff(t)\n",
    "\n",
    "a = ?? ./diff(t[1:end-1]);"
   ]
  },
  {
   "cell_type": "code",
   "execution_count": null,
   "id": "9a524d5c-e565-47be-8199-5bfaac9ec6b0",
   "metadata": {
    "ExecuteTime": {
     "end_time": "2021-06-29T00:05:33.018000-04:00",
     "start_time": "2021-06-29T04:05:06.300Z"
    }
   },
   "outputs": [],
   "source": [
    "y_plt = plot(t, y, title=\"Position\", xlabel=\"Seconds\", ylabel=\"meters\")\n",
    "v_plt = plot(t[1:length(v)], v, title=\"Avg. Velocity\", xlabel=\"Seconds\", ylabel=\"meters/second\")\n",
    "a_plt = plot(t[1:length(a)], a, title=\"Avg. Acceleration\", xlabel=\"Seconds\", ylabel=\"meters/second^2\", ylim=(-9.5,-8.5))\n",
    "plot(y_plt, v_plt, a_plt, layout=(3,1), size=(600,800))"
   ]
  },
  {
   "cell_type": "markdown",
   "id": "62c8af20-5b1f-4e06-9098-78663da39e4e",
   "metadata": {},
   "source": [
    "A positive velocity means the object is moving up, while a negative velocity means the object is moving down. Find the point on the graph where the velocity is equal to zero. What do you notice on the position graph at that same time? The acceleration is constant because gravity is constant, and it is negative because it makes objects move faster down (i.e. have a greater negative velocity)."
   ]
  },
  {
   "cell_type": "markdown",
   "id": "02062456-20e5-451f-b36b-6fb4454fd4a1",
   "metadata": {},
   "source": [
    "## Numerical Integration\n",
    "In the previous example, we started with the known positions and were able to approximate the velocity and the acceleration. Sometimes we start with the acceleration and we want to plot the position over time. For example, if you are designing a rocket, you may know the thrust the rocket can produce over a given span of time and want to determine how high it will fly.\n",
    "\n",
    "If we have a velocity of 8 m/s, then after 2 seconds we will have traveled 16 meters, i.e. we multiply the velocity and the timestep to get the change in position. The current position is then the previous position plus the change.\n",
    "Mathematically, we write:\n",
    "$$\n",
    "y[i] = \\sum_1^i v[i]\\Delta t\n",
    "$$\n",
    "And similarly, for acceleration:\n",
    "$$\n",
    "v[i] = \\sum_1^i a[i]\\Delta t\n",
    "$$\n",
    "In Julia, we can perform the cumulative sum operation ($\\sum_1^i$) with the `cumsum` function!\n",
    "Let's apply this to a rocket taking off and see how high it will fly."
   ]
  },
  {
   "cell_type": "code",
   "execution_count": null,
   "id": "b724572c-1061-43b3-9914-9bed7eb097ed",
   "metadata": {
    "ExecuteTime": {
     "end_time": "2021-06-29T00:05:33.037000-04:00",
     "start_time": "2021-06-29T04:05:06.906Z"
    },
    "execution": {
     "iopub.execute_input": "2021-06-24T14:41:21.464000-04:00",
     "iopub.status.busy": "2021-06-24T14:41:21.455000-04:00",
     "iopub.status.idle": "2021-06-24T14:41:22.411000-04:00",
     "shell.execute_reply": "2021-06-24T14:41:22.411000-04:00"
    },
    "tags": []
   },
   "outputs": [],
   "source": [
    "gravity = 9.81 # meters/second^2\n",
    "thrust = 10 # meters/second^2\n",
    "\n",
    "# Create our acceleration vector\n",
    "# we apply 3x thrust for 2 seconds\n",
    "# then we apply 1x thrust for 3 seconds\n",
    "# then we have no thrust left and only gravity is left\n",
    "t = 0:0.01:15\n",
    "accel = -gravity*ones(length(t))\n",
    "accel[1:200] .+= 3*thrust\n",
    "accel[201:500] .+= thrust\n",
    "\n",
    "# Obtain velocity from the acceleration, Δt = 0.01\n",
    "vel = cumsum(accel)*0.01\n",
    "\n",
    "# Now apply the same operation to the velocity to obtain the position\n",
    "pos = ??;"
   ]
  },
  {
   "cell_type": "code",
   "execution_count": null,
   "id": "2a229e25-0ae5-4932-832e-88994480b302",
   "metadata": {
    "ExecuteTime": {
     "end_time": "2021-06-29T00:05:33.242000-04:00",
     "start_time": "2021-06-29T04:05:07.721Z"
    },
    "execution": {
     "iopub.execute_input": "2021-06-24T14:56:39.376000-04:00",
     "iopub.status.busy": "2021-06-24T14:56:39.375000-04:00",
     "iopub.status.idle": "2021-06-24T14:56:39.495000-04:00",
     "shell.execute_reply": "2021-06-24T14:56:39.488000-04:00"
    },
    "tags": []
   },
   "outputs": [],
   "source": [
    "a_plt = plot(t, accel, title=\"Acceleration\", xlabel=\"Seconds\", ylabel=\"meters/second^2\")\n",
    "v_plt = plot(t, vel, title=\"Velocity\", xlabel=\"Seconds\", ylabel=\"meters/second\")\n",
    "x_plt = plot(t, pos, title=\"Position\", xlabel=\"Seconds\", ylabel=\"meters\")\n",
    "plot(a_plt, v_plt, x_plt, layout=(3,1), size=(600,800))"
   ]
  },
  {
   "cell_type": "code",
   "execution_count": null,
   "id": "3e6772e9-0858-4a07-8704-eba601146b72",
   "metadata": {
    "ExecuteTime": {
     "end_time": "2021-06-29T00:05:33.475000-04:00",
     "start_time": "2021-06-29T04:05:08.544Z"
    },
    "execution": {
     "iopub.execute_input": "2021-06-17T14:50:53.046000-04:00",
     "iopub.status.busy": "2021-06-17T14:50:53.045000-04:00",
     "iopub.status.idle": "2021-06-17T14:50:53.049000-04:00",
     "shell.execute_reply": "2021-06-17T14:50:53.048000-04:00"
    },
    "tags": []
   },
   "outputs": [],
   "source": [
    "# What is the maximum position reached?\n",
    "??"
   ]
  },
  {
   "cell_type": "markdown",
   "id": "8dee31ed-7cb8-4073-9712-da553fde2767",
   "metadata": {},
   "source": [
    "A more exact way of computing these functions is given in a Calculus class, under the topics of differentiation and integration. In this section, we approximated these functions numerically (i.e. with a computer). While these functions were relatively simple, there are often functions in real applications that are too complex to use calculus techniques and must resort to numerical methods like those shown above."
   ]
  }
 ],
 "metadata": {
  "kernelspec": {
   "display_name": "Julia 1.6.1",
   "language": "julia",
   "name": "julia-1.6"
  },
  "language_info": {
   "file_extension": ".jl",
   "mimetype": "application/julia",
   "name": "julia",
   "version": "1.6.1"
  },
  "varInspector": {
   "cols": {
    "lenName": 16,
    "lenType": 16,
    "lenVar": 40
   },
   "kernels_config": {
    "python": {
     "delete_cmd_postfix": "",
     "delete_cmd_prefix": "del ",
     "library": "var_list.py",
     "varRefreshCmd": "print(var_dic_list())"
    },
    "r": {
     "delete_cmd_postfix": ") ",
     "delete_cmd_prefix": "rm(",
     "library": "var_list.r",
     "varRefreshCmd": "cat(var_dic_list()) "
    }
   },
   "types_to_exclude": [
    "module",
    "function",
    "builtin_function_or_method",
    "instance",
    "_Feature"
   ],
   "window_display": false
  }
 },
 "nbformat": 4,
 "nbformat_minor": 5
}
