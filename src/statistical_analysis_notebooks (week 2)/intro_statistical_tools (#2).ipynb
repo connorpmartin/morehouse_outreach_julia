{
 "metadata": {
  "language_info": {
   "codemirror_mode": {
    "name": "ipython",
    "version": 3
   },
   "file_extension": ".py",
   "mimetype": "text/x-python",
   "name": "julia",
   "nbconvert_exporter": "python",
   "pygments_lexer": "ipython3",
   "version": 3
  },
  "orig_nbformat": 4,
  "kernelspec": {
   "name": "julia-1.6",
   "display_name": "Julia 1.6.1",
   "language": "julia"
  }
 },
 "nbformat": 4,
 "nbformat_minor": 2,
 "cells": [
  {
   "source": [
    "# Statistical Analysis in Julia\n"
   ],
   "cell_type": "markdown",
   "metadata": {}
  },
  {
   "source": [
    "### Data measurement in Julia\n",
    "\n",
    "If you have collected data into some variable, you can easily perform several measurements via functions in the Statistics package:\n",
    "\n",
    " - min(x) calculates the smallest element in x\n",
    " - max(x) calculates the largest element in x\n",
    " - mean(x) calculates the arithmetic mean of elements in x\n",
    " - median(x) calculates the median of x\n",
    " - std(x) calculates the standard deviation of x \n",
    " - var(x) calculates the variance of x "
   ],
   "cell_type": "markdown",
   "metadata": {}
  },
  {
   "cell_type": "code",
   "execution_count": 11,
   "metadata": {},
   "outputs": [],
   "source": [
    "#Make sure to run this code block again if you have to restart the notebook\n",
    "using Statistics"
   ]
  },
  {
   "cell_type": "code",
   "execution_count": 13,
   "metadata": {},
   "outputs": [
    {
     "output_type": "stream",
     "name": "stdout",
     "text": [
      "mean(1:5) = 3.0\nmedian(1:5) = 3.0\nstd(1:5) = 1.5811388300841898\n"
     ]
    }
   ],
   "source": [
    "@show min(1:5) #the smallest number in this range is 1\n",
    "@show max(1:5) #and the largest is 5\n",
    "@show mean(1:5) #the mean of 1,2,3,4,5 is 3 because of symmetry\n",
    "@show median(1:5) #so is the median!\n",
    "@show std(1:5)\n",
    "\n"
   ]
  },
  {
   "cell_type": "code",
   "execution_count": 14,
   "metadata": {},
   "outputs": [
    {
     "output_type": "stream",
     "name": "stdout",
     "text": [
      "var(1:5) = 2.5\n"
     ]
    }
   ],
   "source": [
    "#TODO: what is the variance of 1:5? \n",
    "#With the measurements you do have, you can calculate it in at least two different ways.\n",
    "#Once you have a result, compute the variance by running this code block to check your work.\n",
    "\n",
    "@show var(1:5);"
   ]
  },
  {
   "source": [
    "Note that there are no functions for the mode and range of a set of data.\n",
    "\n",
    "As a reminder, the mode of a set of data is the most common element in that set of data. So the mode of the dataset \\[1,1,1,3,3,2\\] is 1. Notably, this means that a dataset can have multiple modes: both 5 and 4 are modes of the dataset \\[5,5,4,4,1\\].\n",
    "\n",
    "The range of a set of data is the largest element minus the smallest element: it is the size of the \"range\" in which every "
   ],
   "cell_type": "markdown",
   "metadata": {}
  },
  {
   "cell_type": "code",
   "execution_count": 16,
   "metadata": {},
   "outputs": [
    {
     "output_type": "error",
     "ename": "LoadError",
     "evalue": "UndefVarError: T not defined",
     "traceback": [
      "UndefVarError: T not defined",
      "",
      "Stacktrace:",
      " [1] top-level scope",
      "   @ In[16]:1",
      " [2] eval",
      "   @ .\\boot.jl:360 [inlined]",
      " [3] include_string(mapexpr::typeof(REPL.softscope), mod::Module, code::String, filename::String)",
      "   @ Base .\\loading.jl:1094"
     ]
    }
   ],
   "source": [
    "\"\"\"\n",
    "range(x) takes in a vector x and returns the range of x.\n",
    "inputs:\n",
    "    - x::Vector{T}, the vector of data we will take the range of\n",
    "\n",
    "outputs:\n",
    "    - m::T, the difference between the largest and the smallest element of x.\n",
    "\n",
    "\"\"\"\n",
    "function range(x::Vector)\n",
    "\n",
    "    \n",
    "    #TODO: complete this function to define mode as specified above. \n",
    "\n",
    "    return \n",
    "end"
   ]
  },
  {
   "cell_type": "code",
   "execution_count": null,
   "metadata": {},
   "outputs": [],
   "source": [
    "\"\"\"\n",
    "trimmedmean(x)\n",
    "\n",
    "\"\"\"\n",
    "function trimmed_mean(x::Vector,k::Integer)\n",
    "\n",
    "    #TODO: complete this function to define mode as specified above. \n",
    "\n",
    "    return \n",
    "    \n",
    "end"
   ]
  },
  {
   "cell_type": "code",
   "execution_count": null,
   "metadata": {},
   "outputs": [],
   "source": [
    "\"\"\"\n",
    "quartiles(x)\n",
    "iqr(x)\n",
    "\n",
    "\"\"\""
   ]
  },
  {
   "cell_type": "code",
   "execution_count": 29,
   "metadata": {},
   "outputs": [
    {
     "output_type": "execute_result",
     "data": {
      "text/plain": [
       "mode"
      ]
     },
     "metadata": {},
     "execution_count": 29
    }
   ],
   "source": [
    "\"\"\"\n",
    "mode(x) takes in a vector x and returns a vector containing the most common elements of x.\n",
    "inputs:\n",
    "    - x, a vector of data we will take the mode of. \n",
    "\n",
    "outputs:\n",
    "    - m::Vector, a vector of the most common elements of x.\n",
    "\n",
    "\"\"\"\n",
    "function mode(x::Vector)\n",
    "\n",
    "    #TODO: complete this function to define mode as specified above. \n",
    "\n",
    "    #correct version here\n",
    "    d = Dict{typeof(x[1]),Integer}()\n",
    "    for i in 1:length(x)\n",
    "        d[x[i]] = get(d,x[i],0) + 1 #creates frequency chart\n",
    "    end\n",
    "    return filter(keys(d),y -> d[y] == max(values(d)))\n",
    "    \n",
    "end"
   ]
  },
  {
   "source": [
    "Once you've defined mode(), you can check your work by running the cell below.  \n",
    "The mode() function we define above doesn't have to display elements in any one order.  \n",
    "For example, the modes of \\[1,2,1,2\\] are 1 and 2, so returning \\[1,2\\] is just as valid as returning \\[2,1\\].  \n",
    "\n",
    "To check the function despite that, we can call the sort() function, which sorts a vector from smallest to largest.  \n",
    "This means that we can check the contents of the output regardless of its order.  \n",
    "Anyways, thanks for reading all of this.   \n",
    "Here's a hint if you're reading ahead: sort() might be useful in the mode function.  "
   ],
   "cell_type": "markdown",
   "metadata": {}
  },
  {
   "cell_type": "code",
   "execution_count": 30,
   "metadata": {},
   "outputs": [
    {
     "output_type": "error",
     "ename": "LoadError",
     "evalue": "MethodError: no method matching sort(::Nothing)\n\u001b[0mClosest candidates are:\n\u001b[0m  sort(\u001b[91m::AbstractUnitRange\u001b[39m) at range.jl:1060\n\u001b[0m  sort(\u001b[91m::AbstractRange\u001b[39m) at range.jl:1063\n\u001b[0m  sort(\u001b[91m::SparseArrays.SparseVector{Tv, Ti}\u001b[39m; kws...) where {Tv, Ti} at C:\\buildbot\\worker\\package_win64\\build\\usr\\share\\julia\\stdlib\\v1.6\\SparseArrays\\src\\sparsevector.jl:1942\n\u001b[0m  ...",
     "traceback": [
      "MethodError: no method matching sort(::Nothing)\n\u001b[0mClosest candidates are:\n\u001b[0m  sort(\u001b[91m::AbstractUnitRange\u001b[39m) at range.jl:1060\n\u001b[0m  sort(\u001b[91m::AbstractRange\u001b[39m) at range.jl:1063\n\u001b[0m  sort(\u001b[91m::SparseArrays.SparseVector{Tv, Ti}\u001b[39m; kws...) where {Tv, Ti} at C:\\buildbot\\worker\\package_win64\\build\\usr\\share\\julia\\stdlib\\v1.6\\SparseArrays\\src\\sparsevector.jl:1942\n\u001b[0m  ...",
      "",
      "Stacktrace:",
      " [1] top-level scope",
      "   @ In[30]:2",
      " [2] eval",
      "   @ .\\boot.jl:360 [inlined]",
      " [3] include_string(mapexpr::typeof(REPL.softscope), mod::Module, code::String, filename::String)",
      "   @ Base .\\loading.jl:1094"
     ]
    }
   ],
   "source": [
    "\n",
    "@assert sort(mode(1:5)) == 1:5 #when every element appears once, the vector has no mode\n",
    "@assert sort(mode([1,2,3,1,2])) == [1,2] "
   ]
  },
  {
   "cell_type": "code",
   "execution_count": null,
   "metadata": {},
   "outputs": [],
   "source": []
  }
 ]
}