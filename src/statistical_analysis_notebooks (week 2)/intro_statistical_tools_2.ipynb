{
 "metadata": {
  "language_info": {
   "file_extension": ".jl",
   "name": "julia",
   "mimetype": "application/julia",
   "version": "1.6.1"
  },
  "orig_nbformat": 4,
  "kernelspec": {
   "name": "julia-1.6",
   "display_name": "Julia 1.6.1",
   "language": "julia"
  }
 },
 "nbformat": 4,
 "nbformat_minor": 2,
 "cells": [
  {
   "cell_type": "markdown",
   "source": [
    "# Data Analysis in Julia\r\n"
   ],
   "metadata": {}
  },
  {
   "cell_type": "markdown",
   "source": [
    "### Defining and Applying Statistical Tools\r\n",
    "\r\n",
    "If you have collected data into some variable, you can easily perform several measurements via functions in the Statistics package:\r\n",
    "\r\n",
    " - minimum(x) calculates the smallest element in x\r\n",
    " - maximum(x) calculates the largest element in x\r\n",
    " - mean(x) calculates the arithmetic mean of elements in x\r\n",
    " - median(x) calculates the median of x\r\n",
    " - std(x) calculates the standard deviation of x \r\n",
    " - var(x) calculates the variance of x "
   ],
   "metadata": {}
  },
  {
   "cell_type": "code",
   "execution_count": null,
   "source": [
    "#Make sure to run this code block again if you have to restart the notebook\r\n",
    "using Statistics"
   ],
   "outputs": [],
   "metadata": {}
  },
  {
   "cell_type": "code",
   "execution_count": null,
   "source": [
    "@show minimum(1:5) #the smallest number in this range is 1\r\n",
    "@show maximum(1:5) #and the largest is 5\r\n",
    "@show mean(1:5) #the mean of 1,2,3,4,5 is 3 because of symmetry\r\n",
    "@show median(1:5) #so is the median!\r\n",
    "@show std(1:5);\r\n"
   ],
   "outputs": [],
   "metadata": {}
  },
  {
   "cell_type": "code",
   "execution_count": null,
   "source": [
    "#TODO: what is the variance of 1:5? \r\n",
    "#With the measurements from above, you can calculate it in at least two different ways.\r\n",
    "#Once you have a result, compute the variance by running this code block to check your work.\r\n",
    "\r\n",
    "@show var(1:5);"
   ],
   "outputs": [],
   "metadata": {}
  },
  {
   "cell_type": "markdown",
   "source": [
    "The StatsBase package provides a few more functions for analysing data:\r\n",
    " - mode(x) returns a mode of x. This function differs from the NuMaSS definition in several ways which we will cover below.\r\n",
    " - quantile(x) returns a vector with five elements:\r\n",
    "    - The smallest element in x\r\n",
    "    - The first quartile of x\r\n",
    "    - The median of x\r\n",
    "    - The third quartile of x\r\n",
    "    - The largest element in x\r\n",
    " - iqr(x) calculates the interquartile range of x."
   ],
   "metadata": {}
  },
  {
   "cell_type": "markdown",
   "source": [
    " Note that the function above is called \"quantile,\" not \"quartile.\"  \r\n",
    " There's a reason for this which I'll provide below, but because it's not relevant to this exercise, feel free to skip it.\r\n",
    "\r\n",
    " A \"quantile\" is a way of separating data into pieces which hold about the same number of data points each.  \r\n",
    " A \"quartile\" is a specific kind of quantile; it splits data into 4 equally sized blocks.  \r\n",
    " Likewise, a \"percentile\" is a way of splitting data into 10 equally sized blocks.  \r\n",
    "\r\n",
    " The quantile function above returns quartiles by default, but by using some optional arguments, you could use it to construct percentiles, or quintiles (5 parts), or septiles (7 parts).\r\n",
    "\r\n",
    " "
   ],
   "metadata": {}
  },
  {
   "cell_type": "code",
   "execution_count": null,
   "source": [
    "#Make sure to run this code block again if you have to restart the notebook\r\n",
    "using StatsBase "
   ],
   "outputs": [],
   "metadata": {}
  },
  {
   "cell_type": "code",
   "execution_count": null,
   "source": [
    "@show mode(1:5) #the StatsBase mode function does not consider the case where every element appears once, which should return a mode of zero.\r\n",
    "\r\n",
    "#because the median is 3, the left dataset is [1,2,3] and the right set is [3,4,5]; so the first and third quartiles are 2 and 4.\r\n",
    "@show iqr(1:5); "
   ],
   "outputs": [],
   "metadata": {}
  },
  {
   "cell_type": "code",
   "execution_count": null,
   "source": [
    "#TODO: create a collection with an iqr of 5 and a mean of zero\r\n",
    "x = []\r\n",
    "\r\n",
    "@show iqr(x)\r\n",
    "@show mean(x);"
   ],
   "outputs": [],
   "metadata": {}
  },
  {
   "cell_type": "code",
   "execution_count": null,
   "source": [
    "#TODO: create a collection with more than one mode and run the mode() function on it.\r\n",
    "#Is there any pattern when determining which mode is returned? Try a few different collections.\r\n",
    "\r\n"
   ],
   "outputs": [],
   "metadata": {}
  },
  {
   "cell_type": "markdown",
   "source": [
    "Note that the presentation mentioned several statistical functions that are not implemented in Julia.  \r\n",
    "Julia does not implement the range and trimmed mean functions, and its implementation of the mode function does not match the NuMaSS definition.\r\n",
    "\r\n",
    "Thankfully, you can implement these functions yourself via the use of Julia functions like sort(), maximum(), and minimum()."
   ],
   "metadata": {}
  },
  {
   "cell_type": "code",
   "execution_count": null,
   "source": [
    "\"\"\"\r\n",
    "range(x) takes in a vector x and returns the range of x.\r\n",
    "inputs:\r\n",
    "    - x, a collection of data\r\n",
    "\r\n",
    "outputs:\r\n",
    "    - m, the difference between the largest and the smallest element of x.\r\n",
    "\r\n",
    "\"\"\"\r\n",
    "function range(x)\r\n",
    "\r\n",
    "    \r\n",
    "    #TODO: complete this function to define range as specified above. \r\n",
    "\r\n",
    "    return \r\n",
    "end"
   ],
   "outputs": [],
   "metadata": {}
  },
  {
   "cell_type": "code",
   "execution_count": null,
   "source": [
    "#run the following code to check your work.\r\n",
    "@show range(1:5) == 4 #5-1=4\r\n",
    "@show range([1,-5,10,2,3]) == 15 #10 - (-5) = 15\r\n",
    "@show range(1) == 0; #the largest and smallest element are the same, so 1-1=0."
   ],
   "outputs": [],
   "metadata": {}
  },
  {
   "cell_type": "code",
   "execution_count": null,
   "source": [
    "\"\"\"\r\n",
    "trimmedmean(x,k)\r\n",
    "inputs:\r\n",
    "    - x, a collection of data\r\n",
    "    - k, an integer. You can assume that 2 * k < length(x).\r\n",
    "\r\n",
    "outputs:\r\n",
    "    - m, the mean of x after we remove k of the largest and k of the smallest elements from x\r\n",
    "\r\n",
    "\"\"\"\r\n",
    "function trimmed_mean(x::Vector,k::Integer)\r\n",
    "\r\n",
    "    #TODO: complete this function to define the trimmed mean as specified in the docstring.\r\n",
    "    #sort() will be useful here!\r\n",
    "\r\n",
    "    return \r\n",
    "    \r\n",
    "end"
   ],
   "outputs": [],
   "metadata": {}
  },
  {
   "cell_type": "code",
   "execution_count": null,
   "source": [
    "#run the following code to check your work\r\n",
    "\r\n",
    "@show trimmed_mean(1:5,1) #for symmetric distributions, trimming a mean does nothing\r\n",
    "@show trimmed_mean(1:5,2) #even with larger k.\r\n",
    "@show trimmed_mean([1,2,3,4,10000],1) #trimming a single outlier allows for some resilience (should be 3)\r\n",
    "@show trimmed_mean([1,2,3,1000,10000],1) #but k=1 only accounts for a single outlier in each direction (should be about 335)"
   ],
   "outputs": [],
   "metadata": {}
  },
  {
   "cell_type": "markdown",
   "source": [
    "A mode of a set of data is one of the most common elements in that set of data.  \r\n",
    "So the mode of the dataset \\[1,1,1,3,3,2\\] is 1.\r\n",
    "Notably, this means that a dataset can have multiple modes: the dataset \\[5,5,4,4,1\\] has modes 5 and 4.  \r\n",
    "If every element appears exactly once, there is no mode."
   ],
   "metadata": {}
  },
  {
   "cell_type": "code",
   "execution_count": null,
   "source": [
    "\"\"\"\r\n",
    "numass_mode(x) takes in x and returns a vector containing the most common elements of x.\r\n",
    "inputs:\r\n",
    "    - x, a collection of data we will take the mode of. \r\n",
    "\r\n",
    "outputs:\r\n",
    "    - m::Set, a set containing each mode of x. \r\n",
    "        If there is no mode (each element appears once), this set is empty.\r\n",
    "\r\n",
    "\"\"\"\r\n",
    "function numass_mode(x)\r\n",
    "\r\n",
    "    #TODO: complete this function to define numass_mode as specified above. \r\n",
    "    #You may want to use the StatsBase mode function, but you can also implement the function without it. \r\n",
    "    #This will be complicated. It might be useful to use a Dict() to store how often each element appears.\r\n",
    "    \r\n",
    "end"
   ],
   "outputs": [],
   "metadata": {}
  },
  {
   "cell_type": "markdown",
   "source": [
    "Once you've defined mode(), you can check your work by running the cell below.  "
   ],
   "metadata": {}
  },
  {
   "cell_type": "code",
   "execution_count": null,
   "source": [
    "\r\n",
    "@show mode([1,2,5,5,5,1,2]) #5 is the most common element here\r\n",
    "@show mode([1,2,3,1,2]) #both 2 and 1 appear twice\r\n",
    "@show mode(1:5); #when every element appears once, the vector has no mode"
   ],
   "outputs": [],
   "metadata": {}
  }
 ]
}