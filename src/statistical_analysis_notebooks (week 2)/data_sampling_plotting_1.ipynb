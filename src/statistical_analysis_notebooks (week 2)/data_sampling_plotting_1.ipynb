{
 "metadata": {
  "language_info": {
   "file_extension": ".jl",
   "name": "julia",
   "mimetype": "application/julia",
   "version": "1.6.1"
  },
  "orig_nbformat": 4,
  "kernelspec": {
   "name": "julia-1.6",
   "display_name": "Julia 1.6.1",
   "language": "julia"
  }
 },
 "nbformat": 4,
 "nbformat_minor": 2,
 "cells": [
  {
   "cell_type": "markdown",
   "source": [
    "# Data Manipulation and Sampling in Julia\r\n"
   ],
   "metadata": {}
  },
  {
   "cell_type": "markdown",
   "source": [
    "### Importing and plotting data in Julia\r\n",
    "\r\n",
    "Suppose that we have two of the datasets from class; namely, we have collected the heights of professional female gymnasts and basketball players in inches.  \r\n",
    "Let's think about how someone would get that data. You can imagine that at some point in the past, each gymnast/basketball player was measured and their height was recorded.  \r\n",
    "So we have access to two lists of numbers: one for the heights of basketball players, and one for gymnasts.  \r\n",
    "How can we get that data into a format that we can work with, and how can we work with it to make useful observations?\r\n",
    "\r\n",
    "*ask dr. joseph for the datasets for female basketball players*\r\n"
   ],
   "metadata": {}
  },
  {
   "cell_type": "code",
   "execution_count": 5,
   "source": [
    "#In Julia, we can store numbers in the form of a vector.\r\n",
    "#One way to put this height data into Julia would be to just type or copy it in.\r\n",
    "basketball_height = [71,72,72,74,75,75.5,76,77,78]\r\n",
    "gymnast_height = [61,62,64,65,66,68,69,72,73,75]\r\n",
    "\r\n",
    "#this is only sustainable if we have very few data points.\r\n",
    "#If we had access to the height of every professional female basketball player / gymnast, we would have to type or reformat tens of thousands of numbers."
   ],
   "outputs": [
    {
     "output_type": "execute_result",
     "data": {
      "text/plain": [
       "10-element Vector{Int64}:\n",
       " 61\n",
       " 62\n",
       " 64\n",
       " 65\n",
       " 66\n",
       " 68\n",
       " 69\n",
       " 72\n",
       " 73\n",
       " 75"
      ]
     },
     "metadata": {},
     "execution_count": 5
    }
   ],
   "metadata": {}
  },
  {
   "cell_type": "code",
   "execution_count": null,
   "source": [
    "#These data points would likely have been typed up by someone, but not in Julia.\r\n",
    "#Instead, they would probably have typed them into a spreadsheet.\r\n",
    "#One of the most common ways of storing spreadsheet data is in the .csv format, which we can load very easily.\r\n",
    "using CSV\r\n",
    "data = CSV.file(\"heights.csv\")\r\n",
    "basketball_height = data.bball\r\n",
    "gymnast_height = data.gymnast"
   ],
   "outputs": [],
   "metadata": {}
  },
  {
   "cell_type": "markdown",
   "source": [
    "Now that we have the data in the form of a vector, we can try to visualize and compare the two datasets.\r\n",
    "\r\n",
    "Well-made plots can work wonders at simplifying data and making trends apparent.  \r\n",
    "In the presentation, looking height histograms made it very easy to see the difference in how the data were distributed.  \r\n",
    "It would probably have been a lot harder to see that most female basketball players were taller if you only saw lists of numbers!"
   ],
   "metadata": {}
  },
  {
   "cell_type": "code",
   "execution_count": 8,
   "source": [
    "using Plots\r\n",
    "#Let's generate a histogram with 5 bins for basketball players\r\n",
    "bh = histogram(basketball_height,bins=7)\r\n",
    "\r\n",
    "#and with 7 bins for gymnasts\r\n",
    "gh = histogram(gymnast_height,bins=7)\r\n",
    "\r\n",
    "#you can plot multiple things next to / on top of one another by plotting a matrix of plots. \r\n",
    "plot(bh)"
   ],
   "outputs": [
    {
     "output_type": "execute_result",
     "data": {
      "image/svg+xml": "<?xml version=\"1.0\" encoding=\"utf-8\"?>\n<svg xmlns=\"http://www.w3.org/2000/svg\" xmlns:xlink=\"http://www.w3.org/1999/xlink\" width=\"600\" height=\"400\" viewBox=\"0 0 2400 1600\">\n<defs>\n  <clipPath id=\"clip630\">\n    <rect x=\"0\" y=\"0\" width=\"2400\" height=\"1600\"/>\n  </clipPath>\n</defs>\n<path clip-path=\"url(#clip630)\" d=\"\nM0 1600 L2400 1600 L2400 0 L0 0  Z\n  \" fill=\"#ffffff\" fill-rule=\"evenodd\" fill-opacity=\"1\"/>\n<defs>\n  <clipPath id=\"clip631\">\n    <rect x=\"480\" y=\"0\" width=\"1681\" height=\"1600\"/>\n  </clipPath>\n</defs>\n<path clip-path=\"url(#clip630)\" d=\"\nM156.112 1486.45 L2352.76 1486.45 L2352.76 47.2441 L156.112 47.2441  Z\n  \" fill=\"#ffffff\" fill-rule=\"evenodd\" fill-opacity=\"1\"/>\n<defs>\n  <clipPath id=\"clip632\">\n    <rect x=\"156\" y=\"47\" width=\"2198\" height=\"1440\"/>\n  </clipPath>\n</defs>\n<polyline clip-path=\"url(#clip632)\" style=\"stroke:#000000; stroke-linecap:butt; stroke-linejoin:round; stroke-width:2; stroke-opacity:0.1; fill:none\" points=\"\n  521.307,1486.45 521.307,47.2441 \n  \"/>\n<polyline clip-path=\"url(#clip632)\" style=\"stroke:#000000; stroke-linecap:butt; stroke-linejoin:round; stroke-width:2; stroke-opacity:0.1; fill:none\" points=\"\n  1010.06,1486.45 1010.06,47.2441 \n  \"/>\n<polyline clip-path=\"url(#clip632)\" style=\"stroke:#000000; stroke-linecap:butt; stroke-linejoin:round; stroke-width:2; stroke-opacity:0.1; fill:none\" points=\"\n  1498.81,1486.45 1498.81,47.2441 \n  \"/>\n<polyline clip-path=\"url(#clip632)\" style=\"stroke:#000000; stroke-linecap:butt; stroke-linejoin:round; stroke-width:2; stroke-opacity:0.1; fill:none\" points=\"\n  1987.56,1486.45 1987.56,47.2441 \n  \"/>\n<polyline clip-path=\"url(#clip630)\" style=\"stroke:#000000; stroke-linecap:butt; stroke-linejoin:round; stroke-width:4; stroke-opacity:1; fill:none\" points=\"\n  156.112,1486.45 2352.76,1486.45 \n  \"/>\n<polyline clip-path=\"url(#clip630)\" style=\"stroke:#000000; stroke-linecap:butt; stroke-linejoin:round; stroke-width:4; stroke-opacity:1; fill:none\" points=\"\n  521.307,1486.45 521.307,1469.18 \n  \"/>\n<polyline clip-path=\"url(#clip630)\" style=\"stroke:#000000; stroke-linecap:butt; stroke-linejoin:round; stroke-width:4; stroke-opacity:1; fill:none\" points=\"\n  1010.06,1486.45 1010.06,1469.18 \n  \"/>\n<polyline clip-path=\"url(#clip630)\" style=\"stroke:#000000; stroke-linecap:butt; stroke-linejoin:round; stroke-width:4; stroke-opacity:1; fill:none\" points=\"\n  1498.81,1486.45 1498.81,1469.18 \n  \"/>\n<polyline clip-path=\"url(#clip630)\" style=\"stroke:#000000; stroke-linecap:butt; stroke-linejoin:round; stroke-width:4; stroke-opacity:1; fill:none\" points=\"\n  1987.56,1486.45 1987.56,1469.18 \n  \"/>\n<path clip-path=\"url(#clip630)\" d=\"M495.462 1512.56 L517.684 1512.56 L517.684 1514.55 L505.138 1547.12 L500.254 1547.12 L512.059 1516.5 L495.462 1516.5 L495.462 1512.56 Z\" fill=\"#000000\" fill-rule=\"evenodd\" fill-opacity=\"1\" /><path clip-path=\"url(#clip630)\" d=\"M530.832 1543.18 L547.152 1543.18 L547.152 1547.12 L525.208 1547.12 L525.208 1543.18 Q527.87 1540.43 532.453 1535.8 Q537.059 1531.15 538.24 1529.81 Q540.485 1527.28 541.365 1525.55 Q542.268 1523.79 542.268 1522.1 Q542.268 1519.34 540.323 1517.61 Q538.402 1515.87 535.3 1515.87 Q533.101 1515.87 530.647 1516.63 Q528.217 1517.4 525.439 1518.95 L525.439 1514.23 Q528.263 1513.09 530.717 1512.51 Q533.17 1511.93 535.207 1511.93 Q540.578 1511.93 543.772 1514.62 Q546.967 1517.31 546.967 1521.8 Q546.967 1523.93 546.156 1525.85 Q545.369 1527.74 543.263 1530.34 Q542.684 1531.01 539.582 1534.23 Q536.481 1537.42 530.832 1543.18 Z\" fill=\"#000000\" fill-rule=\"evenodd\" fill-opacity=\"1\" /><path clip-path=\"url(#clip630)\" d=\"M983.172 1512.56 L1005.39 1512.56 L1005.39 1514.55 L992.848 1547.12 L987.964 1547.12 L999.769 1516.5 L983.172 1516.5 L983.172 1512.56 Z\" fill=\"#000000\" fill-rule=\"evenodd\" fill-opacity=\"1\" /><path clip-path=\"url(#clip630)\" d=\"M1027.36 1516.63 L1015.56 1535.08 L1027.36 1535.08 L1027.36 1516.63 M1026.13 1512.56 L1032.01 1512.56 L1032.01 1535.08 L1036.94 1535.08 L1036.94 1538.97 L1032.01 1538.97 L1032.01 1547.12 L1027.36 1547.12 L1027.36 1538.97 L1011.76 1538.97 L1011.76 1534.46 L1026.13 1512.56 Z\" fill=\"#000000\" fill-rule=\"evenodd\" fill-opacity=\"1\" /><path clip-path=\"url(#clip630)\" d=\"M1472.09 1512.56 L1494.31 1512.56 L1494.31 1514.55 L1481.76 1547.12 L1476.88 1547.12 L1488.68 1516.5 L1472.09 1516.5 L1472.09 1512.56 Z\" fill=\"#000000\" fill-rule=\"evenodd\" fill-opacity=\"1\" /><path clip-path=\"url(#clip630)\" d=\"M1514.01 1527.98 Q1510.86 1527.98 1509.01 1530.13 Q1507.18 1532.28 1507.18 1536.03 Q1507.18 1539.76 1509.01 1541.93 Q1510.86 1544.09 1514.01 1544.09 Q1517.15 1544.09 1518.98 1541.93 Q1520.84 1539.76 1520.84 1536.03 Q1520.84 1532.28 1518.98 1530.13 Q1517.15 1527.98 1514.01 1527.98 M1523.29 1513.32 L1523.29 1517.58 Q1521.53 1516.75 1519.72 1516.31 Q1517.94 1515.87 1516.18 1515.87 Q1511.55 1515.87 1509.1 1519 Q1506.67 1522.12 1506.32 1528.44 Q1507.69 1526.43 1509.75 1525.36 Q1511.81 1524.27 1514.28 1524.27 Q1519.49 1524.27 1522.5 1527.44 Q1525.53 1530.59 1525.53 1536.03 Q1525.53 1541.36 1522.39 1544.57 Q1519.24 1547.79 1514.01 1547.79 Q1508.01 1547.79 1504.84 1543.21 Q1501.67 1538.6 1501.67 1529.87 Q1501.67 1521.68 1505.56 1516.82 Q1509.45 1511.93 1516 1511.93 Q1517.76 1511.93 1519.54 1512.28 Q1521.34 1512.63 1523.29 1513.32 Z\" fill=\"#000000\" fill-rule=\"evenodd\" fill-opacity=\"1\" /><path clip-path=\"url(#clip630)\" d=\"M1960.96 1512.56 L1983.19 1512.56 L1983.19 1514.55 L1970.64 1547.12 L1965.76 1547.12 L1977.56 1516.5 L1960.96 1516.5 L1960.96 1512.56 Z\" fill=\"#000000\" fill-rule=\"evenodd\" fill-opacity=\"1\" /><path clip-path=\"url(#clip630)\" d=\"M2002.31 1530.71 Q1998.97 1530.71 1997.05 1532.49 Q1995.15 1534.27 1995.15 1537.4 Q1995.15 1540.52 1997.05 1542.31 Q1998.97 1544.09 2002.31 1544.09 Q2005.64 1544.09 2007.56 1542.31 Q2009.48 1540.5 2009.48 1537.4 Q2009.48 1534.27 2007.56 1532.49 Q2005.66 1530.71 2002.31 1530.71 M1997.63 1528.72 Q1994.62 1527.98 1992.93 1525.92 Q1991.26 1523.86 1991.26 1520.89 Q1991.26 1516.75 1994.2 1514.34 Q1997.17 1511.93 2002.31 1511.93 Q2007.47 1511.93 2010.41 1514.34 Q2013.35 1516.75 2013.35 1520.89 Q2013.35 1523.86 2011.66 1525.92 Q2009.99 1527.98 2007.01 1528.72 Q2010.38 1529.5 2012.26 1531.8 Q2014.16 1534.09 2014.16 1537.4 Q2014.16 1542.42 2011.08 1545.11 Q2008.02 1547.79 2002.31 1547.79 Q1996.59 1547.79 1993.51 1545.11 Q1990.45 1542.42 1990.45 1537.4 Q1990.45 1534.09 1992.35 1531.8 Q1994.25 1529.5 1997.63 1528.72 M1995.92 1521.33 Q1995.92 1524.02 1997.58 1525.52 Q1999.27 1527.03 2002.31 1527.03 Q2005.32 1527.03 2007.01 1525.52 Q2008.72 1524.02 2008.72 1521.33 Q2008.72 1518.65 2007.01 1517.14 Q2005.32 1515.64 2002.31 1515.64 Q1999.27 1515.64 1997.58 1517.14 Q1995.92 1518.65 1995.92 1521.33 Z\" fill=\"#000000\" fill-rule=\"evenodd\" fill-opacity=\"1\" /><polyline clip-path=\"url(#clip632)\" style=\"stroke:#000000; stroke-linecap:butt; stroke-linejoin:round; stroke-width:2; stroke-opacity:0.1; fill:none\" points=\"\n  156.112,1445.72 2352.76,1445.72 \n  \"/>\n<polyline clip-path=\"url(#clip632)\" style=\"stroke:#000000; stroke-linecap:butt; stroke-linejoin:round; stroke-width:2; stroke-opacity:0.1; fill:none\" points=\"\n  156.112,1106.28 2352.76,1106.28 \n  \"/>\n<polyline clip-path=\"url(#clip632)\" style=\"stroke:#000000; stroke-linecap:butt; stroke-linejoin:round; stroke-width:2; stroke-opacity:0.1; fill:none\" points=\"\n  156.112,766.846 2352.76,766.846 \n  \"/>\n<polyline clip-path=\"url(#clip632)\" style=\"stroke:#000000; stroke-linecap:butt; stroke-linejoin:round; stroke-width:2; stroke-opacity:0.1; fill:none\" points=\"\n  156.112,427.411 2352.76,427.411 \n  \"/>\n<polyline clip-path=\"url(#clip632)\" style=\"stroke:#000000; stroke-linecap:butt; stroke-linejoin:round; stroke-width:2; stroke-opacity:0.1; fill:none\" points=\"\n  156.112,87.9763 2352.76,87.9763 \n  \"/>\n<polyline clip-path=\"url(#clip630)\" style=\"stroke:#000000; stroke-linecap:butt; stroke-linejoin:round; stroke-width:4; stroke-opacity:1; fill:none\" points=\"\n  156.112,1486.45 156.112,47.2441 \n  \"/>\n<polyline clip-path=\"url(#clip630)\" style=\"stroke:#000000; stroke-linecap:butt; stroke-linejoin:round; stroke-width:4; stroke-opacity:1; fill:none\" points=\"\n  156.112,1445.72 182.472,1445.72 \n  \"/>\n<polyline clip-path=\"url(#clip630)\" style=\"stroke:#000000; stroke-linecap:butt; stroke-linejoin:round; stroke-width:4; stroke-opacity:1; fill:none\" points=\"\n  156.112,1106.28 182.472,1106.28 \n  \"/>\n<polyline clip-path=\"url(#clip630)\" style=\"stroke:#000000; stroke-linecap:butt; stroke-linejoin:round; stroke-width:4; stroke-opacity:1; fill:none\" points=\"\n  156.112,766.846 182.472,766.846 \n  \"/>\n<polyline clip-path=\"url(#clip630)\" style=\"stroke:#000000; stroke-linecap:butt; stroke-linejoin:round; stroke-width:4; stroke-opacity:1; fill:none\" points=\"\n  156.112,427.411 182.472,427.411 \n  \"/>\n<polyline clip-path=\"url(#clip630)\" style=\"stroke:#000000; stroke-linecap:butt; stroke-linejoin:round; stroke-width:4; stroke-opacity:1; fill:none\" points=\"\n  156.112,87.9763 182.472,87.9763 \n  \"/>\n<path clip-path=\"url(#clip630)\" d=\"M62.9365 1431.51 Q59.3254 1431.51 57.4967 1435.08 Q55.6912 1438.62 55.6912 1445.75 Q55.6912 1452.86 57.4967 1456.42 Q59.3254 1459.96 62.9365 1459.96 Q66.5707 1459.96 68.3763 1456.42 Q70.205 1452.86 70.205 1445.75 Q70.205 1438.62 68.3763 1435.08 Q66.5707 1431.51 62.9365 1431.51 M62.9365 1427.81 Q68.7467 1427.81 71.8022 1432.42 Q74.8809 1437 74.8809 1445.75 Q74.8809 1454.48 71.8022 1459.08 Q68.7467 1463.67 62.9365 1463.67 Q57.1264 1463.67 54.0477 1459.08 Q50.9921 1454.48 50.9921 1445.75 Q50.9921 1437 54.0477 1432.42 Q57.1264 1427.81 62.9365 1427.81 Z\" fill=\"#000000\" fill-rule=\"evenodd\" fill-opacity=\"1\" /><path clip-path=\"url(#clip630)\" d=\"M83.0984 1457.12 L87.9827 1457.12 L87.9827 1463 L83.0984 1463 L83.0984 1457.12 Z\" fill=\"#000000\" fill-rule=\"evenodd\" fill-opacity=\"1\" /><path clip-path=\"url(#clip630)\" d=\"M108.168 1431.51 Q104.557 1431.51 102.728 1435.08 Q100.922 1438.62 100.922 1445.75 Q100.922 1452.86 102.728 1456.42 Q104.557 1459.96 108.168 1459.96 Q111.802 1459.96 113.608 1456.42 Q115.436 1452.86 115.436 1445.75 Q115.436 1438.62 113.608 1435.08 Q111.802 1431.51 108.168 1431.51 M108.168 1427.81 Q113.978 1427.81 117.033 1432.42 Q120.112 1437 120.112 1445.75 Q120.112 1454.48 117.033 1459.08 Q113.978 1463.67 108.168 1463.67 Q102.358 1463.67 99.2789 1459.08 Q96.2234 1454.48 96.2234 1445.75 Q96.2234 1437 99.2789 1432.42 Q102.358 1427.81 108.168 1427.81 Z\" fill=\"#000000\" fill-rule=\"evenodd\" fill-opacity=\"1\" /><path clip-path=\"url(#clip630)\" d=\"M63.9319 1092.08 Q60.3208 1092.08 58.4921 1095.64 Q56.6865 1099.19 56.6865 1106.32 Q56.6865 1113.42 58.4921 1116.99 Q60.3208 1120.53 63.9319 1120.53 Q67.5661 1120.53 69.3717 1116.99 Q71.2004 1113.42 71.2004 1106.32 Q71.2004 1099.19 69.3717 1095.64 Q67.5661 1092.08 63.9319 1092.08 M63.9319 1088.38 Q69.742 1088.38 72.7976 1092.98 Q75.8763 1097.57 75.8763 1106.32 Q75.8763 1115.04 72.7976 1119.65 Q69.742 1124.23 63.9319 1124.23 Q58.1217 1124.23 55.043 1119.65 Q51.9875 1115.04 51.9875 1106.32 Q51.9875 1097.57 55.043 1092.98 Q58.1217 1088.38 63.9319 1088.38 Z\" fill=\"#000000\" fill-rule=\"evenodd\" fill-opacity=\"1\" /><path clip-path=\"url(#clip630)\" d=\"M84.0938 1117.68 L88.978 1117.68 L88.978 1123.56 L84.0938 1123.56 L84.0938 1117.68 Z\" fill=\"#000000\" fill-rule=\"evenodd\" fill-opacity=\"1\" /><path clip-path=\"url(#clip630)\" d=\"M99.2095 1089 L117.566 1089 L117.566 1092.94 L103.492 1092.94 L103.492 1101.41 Q104.51 1101.06 105.529 1100.9 Q106.547 1100.71 107.566 1100.71 Q113.353 1100.71 116.733 1103.89 Q120.112 1107.06 120.112 1112.47 Q120.112 1118.05 116.64 1121.15 Q113.168 1124.23 106.848 1124.23 Q104.672 1124.23 102.404 1123.86 Q100.159 1123.49 97.7511 1122.75 L97.7511 1118.05 Q99.8345 1119.19 102.057 1119.74 Q104.279 1120.3 106.756 1120.3 Q110.76 1120.3 113.098 1118.19 Q115.436 1116.08 115.436 1112.47 Q115.436 1108.86 113.098 1106.76 Q110.76 1104.65 106.756 1104.65 Q104.881 1104.65 103.006 1105.07 Q101.154 1105.48 99.2095 1106.36 L99.2095 1089 Z\" fill=\"#000000\" fill-rule=\"evenodd\" fill-opacity=\"1\" /><path clip-path=\"url(#clip630)\" d=\"M53.7467 780.191 L61.3856 780.191 L61.3856 753.825 L53.0754 755.492 L53.0754 751.233 L61.3393 749.566 L66.0152 749.566 L66.0152 780.191 L73.654 780.191 L73.654 784.126 L53.7467 784.126 L53.7467 780.191 Z\" fill=\"#000000\" fill-rule=\"evenodd\" fill-opacity=\"1\" /><path clip-path=\"url(#clip630)\" d=\"M83.0984 778.246 L87.9827 778.246 L87.9827 784.126 L83.0984 784.126 L83.0984 778.246 Z\" fill=\"#000000\" fill-rule=\"evenodd\" fill-opacity=\"1\" /><path clip-path=\"url(#clip630)\" d=\"M108.168 752.645 Q104.557 752.645 102.728 756.209 Q100.922 759.751 100.922 766.881 Q100.922 773.987 102.728 777.552 Q104.557 781.094 108.168 781.094 Q111.802 781.094 113.608 777.552 Q115.436 773.987 115.436 766.881 Q115.436 759.751 113.608 756.209 Q111.802 752.645 108.168 752.645 M108.168 748.941 Q113.978 748.941 117.033 753.547 Q120.112 758.131 120.112 766.881 Q120.112 775.608 117.033 780.214 Q113.978 784.797 108.168 784.797 Q102.358 784.797 99.2789 780.214 Q96.2234 775.608 96.2234 766.881 Q96.2234 758.131 99.2789 753.547 Q102.358 748.941 108.168 748.941 Z\" fill=\"#000000\" fill-rule=\"evenodd\" fill-opacity=\"1\" /><path clip-path=\"url(#clip630)\" d=\"M54.7421 440.756 L62.381 440.756 L62.381 414.39 L54.0708 416.057 L54.0708 411.798 L62.3347 410.131 L67.0106 410.131 L67.0106 440.756 L74.6494 440.756 L74.6494 444.691 L54.7421 444.691 L54.7421 440.756 Z\" fill=\"#000000\" fill-rule=\"evenodd\" fill-opacity=\"1\" /><path clip-path=\"url(#clip630)\" d=\"M84.0938 438.812 L88.978 438.812 L88.978 444.691 L84.0938 444.691 L84.0938 438.812 Z\" fill=\"#000000\" fill-rule=\"evenodd\" fill-opacity=\"1\" /><path clip-path=\"url(#clip630)\" d=\"M99.2095 410.131 L117.566 410.131 L117.566 414.066 L103.492 414.066 L103.492 422.538 Q104.51 422.191 105.529 422.029 Q106.547 421.844 107.566 421.844 Q113.353 421.844 116.733 425.015 Q120.112 428.187 120.112 433.603 Q120.112 439.182 116.64 442.284 Q113.168 445.362 106.848 445.362 Q104.672 445.362 102.404 444.992 Q100.159 444.622 97.7511 443.881 L97.7511 439.182 Q99.8345 440.316 102.057 440.872 Q104.279 441.427 106.756 441.427 Q110.76 441.427 113.098 439.321 Q115.436 437.214 115.436 433.603 Q115.436 429.992 113.098 427.886 Q110.76 425.779 106.756 425.779 Q104.881 425.779 103.006 426.196 Q101.154 426.613 99.2095 427.492 L99.2095 410.131 Z\" fill=\"#000000\" fill-rule=\"evenodd\" fill-opacity=\"1\" /><path clip-path=\"url(#clip630)\" d=\"M56.9643 101.321 L73.2837 101.321 L73.2837 105.256 L51.3393 105.256 L51.3393 101.321 Q54.0014 98.5665 58.5847 93.9369 Q63.1911 89.2841 64.3717 87.9416 Q66.617 85.4184 67.4967 83.6823 Q68.3994 81.9231 68.3994 80.2333 Q68.3994 77.4786 66.455 75.7425 Q64.5337 74.0064 61.4319 74.0064 Q59.2328 74.0064 56.7791 74.7703 Q54.3486 75.5342 51.5708 77.0851 L51.5708 72.3629 Q54.3949 71.2287 56.8486 70.65 Q59.3023 70.0713 61.3393 70.0713 Q66.7096 70.0713 69.9041 72.7565 Q73.0985 75.4416 73.0985 79.9323 Q73.0985 82.062 72.2883 83.9832 Q71.5013 85.8814 69.3948 88.474 Q68.8161 89.1453 65.7143 92.3628 Q62.6124 95.5573 56.9643 101.321 Z\" fill=\"#000000\" fill-rule=\"evenodd\" fill-opacity=\"1\" /><path clip-path=\"url(#clip630)\" d=\"M83.0984 99.3767 L87.9827 99.3767 L87.9827 105.256 L83.0984 105.256 L83.0984 99.3767 Z\" fill=\"#000000\" fill-rule=\"evenodd\" fill-opacity=\"1\" /><path clip-path=\"url(#clip630)\" d=\"M108.168 73.775 Q104.557 73.775 102.728 77.3398 Q100.922 80.8814 100.922 88.011 Q100.922 95.1174 102.728 98.6822 Q104.557 102.224 108.168 102.224 Q111.802 102.224 113.608 98.6822 Q115.436 95.1174 115.436 88.011 Q115.436 80.8814 113.608 77.3398 Q111.802 73.775 108.168 73.775 M108.168 70.0713 Q113.978 70.0713 117.033 74.6777 Q120.112 79.261 120.112 88.011 Q120.112 96.7378 117.033 101.344 Q113.978 105.928 108.168 105.928 Q102.358 105.928 99.2789 101.344 Q96.2234 96.7378 96.2234 88.011 Q96.2234 79.261 99.2789 74.6777 Q102.358 70.0713 108.168 70.0713 Z\" fill=\"#000000\" fill-rule=\"evenodd\" fill-opacity=\"1\" /><path clip-path=\"url(#clip632)\" d=\"\nM276.931 766.846 L276.931 1445.72 L521.307 1445.72 L521.307 766.846 L276.931 766.846 L276.931 766.846  Z\n  \" fill=\"#009af9\" fill-rule=\"evenodd\" fill-opacity=\"1\"/>\n<polyline clip-path=\"url(#clip632)\" style=\"stroke:#000000; stroke-linecap:butt; stroke-linejoin:round; stroke-width:4; stroke-opacity:1; fill:none\" points=\"\n  276.931,766.846 276.931,1445.72 521.307,1445.72 521.307,766.846 276.931,766.846 \n  \"/>\n<path clip-path=\"url(#clip632)\" d=\"\nM521.307 87.9763 L521.307 1445.72 L765.683 1445.72 L765.683 87.9763 L521.307 87.9763 L521.307 87.9763  Z\n  \" fill=\"#009af9\" fill-rule=\"evenodd\" fill-opacity=\"1\"/>\n<polyline clip-path=\"url(#clip632)\" style=\"stroke:#000000; stroke-linecap:butt; stroke-linejoin:round; stroke-width:4; stroke-opacity:1; fill:none\" points=\"\n  521.307,87.9763 521.307,1445.72 765.683,1445.72 765.683,87.9763 521.307,87.9763 \n  \"/>\n<path clip-path=\"url(#clip632)\" d=\"\nM765.683 1445.72 L765.683 1445.72 L1010.06 1445.72 L1010.06 1445.72 L765.683 1445.72 L765.683 1445.72  Z\n  \" fill=\"#009af9\" fill-rule=\"evenodd\" fill-opacity=\"1\"/>\n<polyline clip-path=\"url(#clip632)\" style=\"stroke:#000000; stroke-linecap:butt; stroke-linejoin:round; stroke-width:4; stroke-opacity:1; fill:none\" points=\"\n  765.683,1445.72 765.683,1445.72 1010.06,1445.72 765.683,1445.72 \n  \"/>\n<path clip-path=\"url(#clip632)\" d=\"\nM1010.06 766.846 L1010.06 1445.72 L1254.43 1445.72 L1254.43 766.846 L1010.06 766.846 L1010.06 766.846  Z\n  \" fill=\"#009af9\" fill-rule=\"evenodd\" fill-opacity=\"1\"/>\n<polyline clip-path=\"url(#clip632)\" style=\"stroke:#000000; stroke-linecap:butt; stroke-linejoin:round; stroke-width:4; stroke-opacity:1; fill:none\" points=\"\n  1010.06,766.846 1010.06,1445.72 1254.43,1445.72 1254.43,766.846 1010.06,766.846 \n  \"/>\n<path clip-path=\"url(#clip632)\" d=\"\nM1254.43 87.9763 L1254.43 1445.72 L1498.81 1445.72 L1498.81 87.9763 L1254.43 87.9763 L1254.43 87.9763  Z\n  \" fill=\"#009af9\" fill-rule=\"evenodd\" fill-opacity=\"1\"/>\n<polyline clip-path=\"url(#clip632)\" style=\"stroke:#000000; stroke-linecap:butt; stroke-linejoin:round; stroke-width:4; stroke-opacity:1; fill:none\" points=\"\n  1254.43,87.9763 1254.43,1445.72 1498.81,1445.72 1498.81,87.9763 1254.43,87.9763 \n  \"/>\n<path clip-path=\"url(#clip632)\" d=\"\nM1498.81 766.846 L1498.81 1445.72 L1743.19 1445.72 L1743.19 766.846 L1498.81 766.846 L1498.81 766.846  Z\n  \" fill=\"#009af9\" fill-rule=\"evenodd\" fill-opacity=\"1\"/>\n<polyline clip-path=\"url(#clip632)\" style=\"stroke:#000000; stroke-linecap:butt; stroke-linejoin:round; stroke-width:4; stroke-opacity:1; fill:none\" points=\"\n  1498.81,766.846 1498.81,1445.72 1743.19,1445.72 1743.19,766.846 1498.81,766.846 \n  \"/>\n<path clip-path=\"url(#clip632)\" d=\"\nM1743.19 766.846 L1743.19 1445.72 L1987.56 1445.72 L1987.56 766.846 L1743.19 766.846 L1743.19 766.846  Z\n  \" fill=\"#009af9\" fill-rule=\"evenodd\" fill-opacity=\"1\"/>\n<polyline clip-path=\"url(#clip632)\" style=\"stroke:#000000; stroke-linecap:butt; stroke-linejoin:round; stroke-width:4; stroke-opacity:1; fill:none\" points=\"\n  1743.19,766.846 1743.19,1445.72 1987.56,1445.72 1987.56,766.846 1743.19,766.846 \n  \"/>\n<path clip-path=\"url(#clip632)\" d=\"\nM1987.56 766.846 L1987.56 1445.72 L2231.94 1445.72 L2231.94 766.846 L1987.56 766.846 L1987.56 766.846  Z\n  \" fill=\"#009af9\" fill-rule=\"evenodd\" fill-opacity=\"1\"/>\n<polyline clip-path=\"url(#clip632)\" style=\"stroke:#000000; stroke-linecap:butt; stroke-linejoin:round; stroke-width:4; stroke-opacity:1; fill:none\" points=\"\n  1987.56,766.846 1987.56,1445.72 2231.94,1445.72 2231.94,766.846 1987.56,766.846 \n  \"/>\n<path clip-path=\"url(#clip630)\" d=\"\nM1983.03 216.178 L2279.53 216.178 L2279.53 95.2176 L1983.03 95.2176  Z\n  \" fill=\"#ffffff\" fill-rule=\"evenodd\" fill-opacity=\"1\"/>\n<polyline clip-path=\"url(#clip630)\" style=\"stroke:#000000; stroke-linecap:butt; stroke-linejoin:round; stroke-width:4; stroke-opacity:1; fill:none\" points=\"\n  1983.03,216.178 2279.53,216.178 2279.53,95.2176 1983.03,95.2176 1983.03,216.178 \n  \"/>\n<path clip-path=\"url(#clip630)\" d=\"\nM2007.44 179.89 L2153.88 179.89 L2153.88 131.506 L2007.44 131.506 L2007.44 179.89  Z\n  \" fill=\"#009af9\" fill-rule=\"evenodd\" fill-opacity=\"1\"/>\n<polyline clip-path=\"url(#clip630)\" style=\"stroke:#000000; stroke-linecap:butt; stroke-linejoin:round; stroke-width:4; stroke-opacity:1; fill:none\" points=\"\n  2007.44,179.89 2153.88,179.89 2153.88,131.506 2007.44,131.506 2007.44,179.89 \n  \"/>\n<path clip-path=\"url(#clip630)\" d=\"M2192.13 175.385 Q2190.33 180.015 2188.61 181.427 Q2186.9 182.839 2184.03 182.839 L2180.63 182.839 L2180.63 179.274 L2183.13 179.274 Q2184.89 179.274 2185.86 178.44 Q2186.83 177.607 2188.01 174.505 L2188.78 172.561 L2178.29 147.052 L2182.8 147.052 L2190.91 167.329 L2199.01 147.052 L2203.52 147.052 L2192.13 175.385 Z\" fill=\"#000000\" fill-rule=\"evenodd\" fill-opacity=\"1\" /><path clip-path=\"url(#clip630)\" d=\"M2210.81 169.042 L2218.45 169.042 L2218.45 142.677 L2210.14 144.343 L2210.14 140.084 L2218.41 138.418 L2223.08 138.418 L2223.08 169.042 L2230.72 169.042 L2230.72 172.978 L2210.81 172.978 L2210.81 169.042 Z\" fill=\"#000000\" fill-rule=\"evenodd\" fill-opacity=\"1\" /></svg>\n"
     },
     "metadata": {},
     "execution_count": 8
    }
   ],
   "metadata": {}
  },
  {
   "cell_type": "markdown",
   "source": [
    "Random Sampling\r\n"
   ],
   "metadata": {}
  },
  {
   "cell_type": "markdown",
   "source": [
    "Why is random sampling useful?\r\n",
    "\r\n",
    "- Simulation\r\n",
    "\r\n",
    "- Time saving\r\n",
    "\r\n"
   ],
   "metadata": {}
  }
 ]
}